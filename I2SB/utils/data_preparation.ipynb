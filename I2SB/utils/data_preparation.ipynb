{
 "cells": [
  {
   "cell_type": "code",
   "execution_count": 2,
   "id": "c4a04766-6d2b-4b6e-9ad9-3a47f0202044",
   "metadata": {},
   "outputs": [],
   "source": [
    "import os\n",
    "import sys\n",
    "import random\n",
    "import numpy as np\n",
    "from tqdm import tqdm\n",
    "import nibabel as nib\n",
    "import raster_geometry as rg\n",
    "import cv2\n",
    "import matplotlib.pyplot as plt\n",
    "\n",
    "sys.path.append('/workspace/MRI-inpainting-project')\n",
    "\n",
    "from data_scripts.visualization_utils import ImageSliceViewer3D\n",
    "from data_scripts.datasets import TrainPatchesDataset, HealthyMRIDataset, PathologicalMRIDataset"
   ]
  },
  {
   "cell_type": "markdown",
   "id": "bafed0bc-b9cd-492c-aa31-01bd626ceb4f",
   "metadata": {},
   "source": [
    "## 3D Patches Preparation"
   ]
  },
  {
   "cell_type": "code",
   "execution_count": 7,
   "id": "972e4c47-1809-44e4-a84b-c3a9ef25d5b2",
   "metadata": {},
   "outputs": [],
   "source": [
    "healthy_dataset = HealthyMRIDataset(\"../../data/healthy_mri/healthy_mri\", \n",
    "                                    \"../../data/healthy_mri/healthy_masks/simple-sphere-masks\")"
   ]
  },
  {
   "cell_type": "code",
   "execution_count": 27,
   "id": "7b83d6e4-2f30-4735-8a6e-da1111c55037",
   "metadata": {},
   "outputs": [
    {
     "name": "stderr",
     "output_type": "stream",
     "text": [
      "100%|██████████| 60/60 [00:17<00:00,  3.41it/s]\n"
     ]
    }
   ],
   "source": [
    "patches = []\n",
    "\n",
    "patch_size = 40\n",
    "for sample in tqdm(healthy_dataset):\n",
    "    mri, mask = sample['mri'], sample['mask']\n",
    "    xs, ys, zs = np.where(mask == 1)\n",
    "    x_min, x_max = np.min(xs), np.max(xs)\n",
    "    y_min, y_max = np.min(ys), np.max(ys)\n",
    "    z_min, z_max = np.min(zs), np.max(zs)\n",
    "    \n",
    "    x_size = x_max - x_min\n",
    "    y_size = y_max - y_min\n",
    "    z_size = z_max - z_min\n",
    "    \n",
    "    x_patch_min, x_patch_max = x_min - (patch_size - x_size) // 2, x_max + (patch_size - x_size) // 2\n",
    "    y_patch_min, y_patch_max = y_min - (patch_size - y_size) // 2, y_max + (patch_size - y_size) // 2\n",
    "    z_patch_min, z_patch_max = z_min - (patch_size - z_size) // 2, z_max + (patch_size - z_size) // 2\n",
    "\n",
    "    patch_mask = np.zeros_like(mask)\n",
    "    patch_mask[x_patch_min:x_patch_max+1, y_patch_min:y_patch_max+1, z_patch_min:z_patch_max+1] = 1\n",
    "\n",
    "    patch = mri[patch_mask.astype(bool)].reshape(patch_size, patch_size, patch_size) \n",
    "    patch_pathology_mask = mask[patch_mask.astype(bool)].reshape(patch_size, patch_size, patch_size) \n",
    "\n",
    "    assert patch.shape == patch_pathology_mask.shape \n",
    "\n",
    "    patches.append((patch, patch_mask, patch_pathology_mask, sample['filename']))"
   ]
  },
  {
   "cell_type": "code",
   "execution_count": 32,
   "id": "889d1df9-50d0-43df-a1b5-66c7e7efbac9",
   "metadata": {},
   "outputs": [],
   "source": [
    "for patch, patch_mask, patch_pathology_mask, filename in patches:\n",
    "    nib_patch = nib.Nifti1Image(patch, affine=np.eye(4))\n",
    "    nib_patch_mask = nib.Nifti1Image(patch_mask, affine=np.eye(4))\n",
    "    nib_patch_pathology_mask = nib.Nifti1Image(patch_pathology_mask, affine=np.eye(4))\n",
    "\n",
    "    nib.save(nib_patch, f\"../data/raw/patches/simple-sphere-masks/patches/{filename}\")\n",
    "    nib.save(nib_patch_mask, f\"../data/raw/patches/simple-sphere-masks/patch_masks/{filename}\")\n",
    "    nib.save(nib_patch_pathology_mask, f\"../data/raw/patches/simple-sphere-masks/patch_pathology_masks/{filename}\")"
   ]
  },
  {
   "cell_type": "markdown",
   "id": "3e7b923e-ffc3-42d8-85ac-2b37b5c2ef63",
   "metadata": {},
   "source": [
    "## "
   ]
  }
 ],
 "metadata": {
  "kernelspec": {
   "display_name": "I2SB",
   "language": "python",
   "name": "i2sb"
  },
  "language_info": {
   "codemirror_mode": {
    "name": "ipython",
    "version": 3
   },
   "file_extension": ".py",
   "mimetype": "text/x-python",
   "name": "python",
   "nbconvert_exporter": "python",
   "pygments_lexer": "ipython3",
   "version": "3.8.19"
  }
 },
 "nbformat": 4,
 "nbformat_minor": 5
}
