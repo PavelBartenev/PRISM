{
 "cells": [
  {
   "cell_type": "code",
   "execution_count": 5,
   "id": "f6a85c9b-ad60-4098-a0c6-5ad0caa5c8c2",
   "metadata": {},
   "outputs": [],
   "source": [
    "import sys\n",
    "sys.path.append('/workspace/MRI-inpainting-project/I2SB')\n",
    "\n",
    "from i2sb.runner import Runner"
   ]
  },
  {
   "cell_type": "markdown",
   "id": "59fbfc54-89d4-4a76-b485-9d2025870a52",
   "metadata": {},
   "source": [
    "## create my file train_my.py with edited Runner"
   ]
  }
 ],
 "metadata": {
  "kernelspec": {
   "display_name": "I2SB",
   "language": "python",
   "name": "i2sb"
  },
  "language_info": {
   "codemirror_mode": {
    "name": "ipython",
    "version": 3
   },
   "file_extension": ".py",
   "mimetype": "text/x-python",
   "name": "python",
   "nbconvert_exporter": "python",
   "pygments_lexer": "ipython3",
   "version": "3.8.19"
  }
 },
 "nbformat": 4,
 "nbformat_minor": 5
}
