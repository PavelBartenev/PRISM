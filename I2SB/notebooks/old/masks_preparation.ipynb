{
 "cells": [
  {
   "cell_type": "code",
   "execution_count": 43,
   "id": "84159558-05ea-4f0b-aa69-d844d5715eb3",
   "metadata": {},
   "outputs": [],
   "source": [
    "import os\n",
    "import numpy as np\n",
    "from tqdm import tqdm\n",
    "import nibabel as nib\n",
    "import raster_geometry as rg\n",
    "import cv2\n",
    "import matplotlib.pyplot as plt"
   ]
  },
  {
   "cell_type": "code",
   "execution_count": 30,
   "id": "ca2a273f-299c-4706-9a76-3fa309d59807",
   "metadata": {},
   "outputs": [
    {
     "name": "stderr",
     "output_type": "stream",
     "text": [
      "100%|██████████| 157/157 [02:46<00:00,  1.06s/it]\n"
     ]
    }
   ],
   "source": [
    "mask_prob = nib.load(\"/workspace/FCD_mask.nii.gz\").get_fdata()\n",
    "mask_prob[:40, :, :] = 0\n",
    "mask_prob[-40:, :, :] = 0\n",
    "mask_prob[:, :40, :] = 0\n",
    "mask_prob[:, -40:, :] = 0\n",
    "mask_prob[:, :, :40] = 0\n",
    "mask_prob[:, :, -40:] = 0\n",
    "\n",
    "high_left_corners = []\n",
    "sphere = rg.sphere(40, 8)\n",
    "\n",
    "for i in tqdm(range(mask_prob.shape[0] - 40)):\n",
    "    for j in range(mask_prob.shape[1] - 40):\n",
    "        for k in range(mask_prob.shape[2] - 40):\n",
    "            cube = mask_prob[i:i+40, j:j+40, k:k+40]\n",
    "            if np.all(cube[sphere] == 1):\n",
    "                high_left_corners.append((i, j, k))"
   ]
  },
  {
   "cell_type": "code",
   "execution_count": 34,
   "id": "e1a42e98-9e4c-4206-a229-ef0c33a579a0",
   "metadata": {},
   "outputs": [],
   "source": [
    "def get_random_train_mask():\n",
    "    files = os.listdir('../data/raw/patches/labels')\n",
    "    patients_exclude = ['n3', 'n11', 'n13', 'G061', 'G081', 'G258', 'n23', 'n37', 'n64', 'n70']\n",
    "    patients_exclude = ['sub-' + patient + '.nii.gz' for patient in patients_exclude]\n",
    "    files = [file for file in files if file not in patients_exclude]\n",
    "\n",
    "    file = np.random.choice(files)\n",
    "    mask = (nib.load('../data/raw/patches/labels/' + file).get_fdata() > 0.5)\n",
    "\n",
    "    return mask.astype(np.float64)\n",
    "\n",
    "\n",
    "def generate_mask_from_train(shape):\n",
    "    x, y, z = shape\n",
    "    mask = np.zeros(shape)\n",
    "    patch = np.zeros(shape)\n",
    "    symm_patch = np.zeros(shape)\n",
    "    \n",
    "    idx = np.random.randint(len(high_left_corners))\n",
    "    i, j, k = high_left_corners[idx]\n",
    "    local_mask = get_random_train_mask()   # (40, 40, 40)\n",
    "                \n",
    "    if np.random.randn() > 0.5: \n",
    "        local_mask = local_mask[:, :, ::-1]\n",
    "\n",
    "    patch[i:i+40, j:j+40, k:k+40] = 1\n",
    "    symm_patch[x-i-40:x-i, j:j+40, k:k+40] = 1\n",
    "    mask[patch.astype(bool)] = local_mask.flatten()\n",
    "\n",
    "    return mask.astype(bool), patch.astype(bool), symm_patch.astype(bool)"
   ]
  },
  {
   "cell_type": "code",
   "execution_count": 50,
   "id": "1fae6e14-8a89-45cb-8303-0e0ad88764cd",
   "metadata": {},
   "outputs": [
    {
     "data": {
      "text/plain": [
       "(960, 256, 256)"
      ]
     },
     "execution_count": 50,
     "metadata": {},
     "output_type": "execute_result"
    }
   ],
   "source": [
    "np.load('../data/processed/patches_norm/val/imagenet_freeform1020_masks.npz')['mask'].shape"
   ]
  },
  {
   "cell_type": "code",
   "execution_count": 51,
   "id": "c39458f8-746c-463f-9205-3724edf2abbf",
   "metadata": {},
   "outputs": [
    {
     "data": {
      "text/plain": [
       "(960, 256, 256)"
      ]
     },
     "execution_count": 51,
     "metadata": {},
     "output_type": "execute_result"
    }
   ],
   "source": [
    "masks_resized = []\n",
    "for i in range(960 // 40):\n",
    "    mask, patch_mask, _ = generate_mask_from_train((197, 233, 189))\n",
    "    mask = mask[patch_mask].reshape((40, 40, 40))\n",
    "    for mask_slice_id in range(40):\n",
    "        mask_slice = mask[:, :, mask_slice_id]\n",
    "        masks_resized.append(cv2.resize(mask_slice.astype(np.uint8), (256, 256)) > 0.5)\n",
    "masks_resized = np.stack(masks_resized)\n",
    "masks_resized.shape"
   ]
  },
  {
   "cell_type": "code",
   "execution_count": 83,
   "id": "5d23ebf6-93c2-4bcf-aa83-ad81b725fafd",
   "metadata": {},
   "outputs": [
    {
     "data": {
      "text/plain": [
       "<matplotlib.image.AxesImage at 0x7f46786463d0>"
      ]
     },
     "execution_count": 83,
     "metadata": {},
     "output_type": "execute_result"
    },
    {
     "data": {
      "image/png": "[encoded data removed]",
      "text/plain": [
       "<Figure size 640x480 with 1 Axes>"
      ]
     },
     "metadata": {},
     "output_type": "display_data"
    }
   ],
   "source": [
    "masks_norm = np.load('../data/processed/patches_norm/val/trainlike_masks/imagenet_freeform1020_masks.npz')['mask']\n",
    "plt.imshow(masks_norm[21])"
   ]
  },
  {
   "cell_type": "code",
   "execution_count": 75,
   "id": "e4a22501-5ee5-40e9-9054-85b846b912f2",
   "metadata": {},
   "outputs": [
    {
     "data": {
      "text/plain": [
       "<matplotlib.image.AxesImage at 0x7f4678739700>"
      ]
     },
     "execution_count": 75,
     "metadata": {},
     "output_type": "execute_result"
    },
    {
     "data": {
      "image/png": "[encoded data removed]",
      "text/plain": [
       "<Figure size 640x480 with 1 Axes>"
      ]
     },
     "metadata": {},
     "output_type": "display_data"
    }
   ],
   "source": [
    "plt.imshow(np.load('../data/processed/patches/val/trainlike_masks/imagenet_freeform1020_masks.npz')['mask'][20])"
   ]
  },
  {
   "cell_type": "code",
   "execution_count": 52,
   "id": "c2e19cab-40b1-4f8e-8769-5c37487d5111",
   "metadata": {},
   "outputs": [],
   "source": [
    "np.savez('../data/processed/patches_norm/val/trainlike_masks/imagenet_freeform1020_masks.npz', mask=masks_resized.astype(np.uint8))"
   ]
  }
 ],
 "metadata": {
  "kernelspec": {
   "display_name": "Python 3",
   "language": "python",
   "name": "python3"
  },
  "language_info": {
   "codemirror_mode": {
    "name": "ipython",
    "version": 3
   },
   "file_extension": ".py",
   "mimetype": "text/x-python",
   "name": "python",
   "nbconvert_exporter": "python",
   "pygments_lexer": "ipython3",
   "version": "3.8.12"
  }
 },
 "nbformat": 4,
 "nbformat_minor": 5
}
