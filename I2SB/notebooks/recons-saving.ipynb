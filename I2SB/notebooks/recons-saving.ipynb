{
 "cells": [
  {
   "cell_type": "code",
   "execution_count": 1,
   "id": "6a0fbca6-1e8e-4dff-840b-96fa228dcdd7",
   "metadata": {},
   "outputs": [],
   "source": [
    "import numpy as np\n",
    "import os\n",
    "import matplotlib.pyplot as plt\n",
    "#import cv2\n",
    "import torch\n",
    "import sys\n",
    "import nibabel as nib\n",
    "from tqdm import tqdm\n",
    "\n",
    "sys.path.append('/workspace/MRI-inpainting-project/data_scripts')\n",
    "sys.path.append('/workspace/MRI-inpainting-project/I2SB/dataset')\n",
    "\n",
    "from datasets import TrainPatchesDataset, HealthyMRIDataset, PathologicalMRIDataset\n",
    "from mri_datasets import ReconMRIDataset\n",
    "from visualization_utils import ImageSliceViewer3D"
   ]
  },
  {
   "cell_type": "code",
   "execution_count": 77,
   "id": "e0e293d7-4eed-480b-ab54-bed777203de5",
   "metadata": {},
   "outputs": [],
   "source": [
    "healthy_dataset = HealthyMRIDataset('/workspace/MRI-inpainting-project/data/healthy_mri_C_00/healthy_mri_t1',\n",
    "                                    '/workspace/MRI-inpainting-project/data/healthy_mri_C_00/healthy_masks_t1/3dunet_masks_new/masks/split7/masks',\n",
    "                                    '/workspace/MRI-inpainting-project/data/healthy_mri_C_00/healthy_masks_t1/3dunet_masks_new/patch_masks/split7')\n",
    "\n",
    "recons_path = \"/workspace/MRI-inpainting-project/I2SB/results/Split7T1/samples_nfe999/reconSplit7Unet.pt\""
   ]
  },
  {
   "cell_type": "code",
   "execution_count": null,
   "id": "22c6cfaf-0fec-4217-bf7c-2c407594cfd7",
   "metadata": {},
   "outputs": [],
   "source": []
  },
  {
   "cell_type": "code",
   "execution_count": 58,
   "id": "ff27da41-3925-427c-bc18-c8bd05748861",
   "metadata": {},
   "outputs": [],
   "source": [
    "old_recons = torch.load(\"/workspace/MRI-inpainting-project/I2SB/results/Split0Train_v2/samples_nfe999/recon.pt\")['arr']"
   ]
  },
  {
   "cell_type": "code",
   "execution_count": 59,
   "id": "96ee60f4-b4a2-46ee-8db6-e00259e53ce5",
   "metadata": {},
   "outputs": [],
   "source": [
    "new_recons = torch.load(recons_path)['arr']"
   ]
  },
  {
   "cell_type": "code",
   "execution_count": 69,
   "id": "7f22764a-683e-47b8-ac8f-8a5d8480dd10",
   "metadata": {
    "scrolled": true
   },
   "outputs": [],
   "source": [
    "new_filenames_order = healthy_dataset.filenames\n",
    "old_zhores_filenames_order = ['sub-00067_t1_brain-final.nii.gz', 'sub-00028_t1_brain-final.nii.gz', 'sub-00148_t1_brain-final.nii.gz', 'sub-00163_t1_brain-final.nii.gz', 'sub-00152_t1_brain-final.nii.gz', 'sub-00093_t1_brain-final.nii.gz', 'sub-00046_t1_brain-final.nii.gz', 'sub-00052_t1_brain-final.nii.gz', 'sub-C10_t1_brain-final.nii.gz', 'sub-00088_t1_brain-final.nii.gz', 'sub-00049_t1_brain-final.nii.gz', 'sub-00150_t1_brain-final.nii.gz', 'sub-00117_t1_brain-final.nii.gz', 'sub-00007_t1_brain-final.nii.gz', 'sub-00165_t1_brain-final.nii.gz', 'sub-00069_t1_brain-final.nii.gz', 'sub-00056_t1_brain-final.nii.gz', 'sub-00113_t1_brain-final.nii.gz', 'sub-00054_t1_brain-final.nii.gz', 'sub-00143_t1_brain-final.nii.gz', 'sub-00070_t1_brain-final.nii.gz', 'sub-00013_t1_brain-final.nii.gz', 'sub-C1_t1_brain-final.nii.gz', 'sub-00119_t1_brain-final.nii.gz', 'sub-00127_t1_brain-final.nii.gz', 'sub-00075_t1_brain-final.nii.gz', 'sub-00025_t1_brain-final.nii.gz', 'sub-00002_t1_brain-final.nii.gz', 'sub-00057_t1_brain-final.nii.gz', 'sub-00096_t1_brain-final.nii.gz', 'sub-00168_t1_brain-final.nii.gz', 'sub-00036_t1_brain-final.nii.gz', 'sub-00169_t1_brain-final.nii.gz', 'sub-00153_t1_brain-final.nii.gz', 'sub-00114_t1_brain-final.nii.gz', 'sub-00017_t1_brain-final.nii.gz', 'sub-00030_t1_brain-final.nii.gz', 'sub-00051_t1_brain-final.nii.gz', 'sub-00155_t1_brain-final.nii.gz', 'sub-C6_t1_brain-final.nii.gz', 'sub-C2_t1_brain-final.nii.gz', 'sub-00157_t1_brain-final.nii.gz', 'sub-00102_t1_brain-final.nii.gz', 'sub-00154_t1_brain-final.nii.gz', 'sub-00135_t1_brain-final.nii.gz', 'sub-C11_t1_brain-final.nii.gz', 'sub-00035_t1_brain-final.nii.gz', 'sub-00110_t1_brain-final.nii.gz', 'sub-00147_t1_brain-final.nii.gz', 'sub-00104_t1_brain-final.nii.gz', 'sub-00129_t1_brain-final.nii.gz', 'sub-00111_t1_brain-final.nii.gz', 'sub-00031_t1_brain-final.nii.gz', 'sub-00170_t1_brain-final.nii.gz', 'sub-00039_t1_brain-final.nii.gz', 'sub-00042_t1_brain-final.nii.gz', 'sub-00085_t1_brain-final.nii.gz', 'sub-00079_t1_brain-final.nii.gz', 'sub-00012_t1_brain-final.nii.gz', 'sub-C8_t1_brain-final.nii.gz', 'sub-00118_t1_brain-final.nii.gz', 'sub-00029_t1_brain-final.nii.gz', 'sub-00084_t1_brain-final.nii.gz', 'sub-00011_t1_brain-final.nii.gz', 'sub-00019_t1_brain-final.nii.gz', 'sub-00162_t1_brain-final.nii.gz', \n",
    "                              'sub-00037_t1_brain-final.nii.gz', 'sub-00008_t1_brain-final.nii.gz', 'sub-00124_t1_brain-final.nii.gz', 'sub-00022_t1_brain-final.nii.gz', 'sub-00021_t1_brain-final.nii.gz', 'sub-00137_t1_brain-final.nii.gz', 'sub-00149_t1_brain-final.nii.gz', 'sub-00106_t1_brain-final.nii.gz', 'sub-00164_t1_brain-final.nii.gz', 'sub-00005_t1_brain-final.nii.gz', 'sub-00041_t1_brain-final.nii.gz']"
   ]
  },
  {
   "cell_type": "code",
   "execution_count": 60,
   "id": "9d2fd5d8-bd0c-4707-b194-2c064bbe7945",
   "metadata": {},
   "outputs": [
    {
     "name": "stderr",
     "output_type": "stream",
     "text": [
      "100%|██████████| 1232/1232 [09:28<00:00,  2.17it/s]\n"
     ]
    }
   ],
   "source": [
    "map_ids = []\n",
    "for i in tqdm(range(len(new_recons))):\n",
    "    map_ids.append(np.argmin((np.abs(old_recons - new_recons[i])).sum(axis=(1, 2, 3))).item())"
   ]
  },
  {
   "cell_type": "code",
   "execution_count": 73,
   "id": "a5d7d794-5eed-4d66-a45a-00270a88cf98",
   "metadata": {},
   "outputs": [],
   "source": [
    "recons_right_order = [0] * len(new_recons)\n",
    "for i in range(len(new_recons)):\n",
    "    recons_right_order[new_filenames_order.index(old_zhores_filenames_order[i // 16]) * 16 + (i % 16)] = new_recons[i]\n",
    "\n",
    "recons_right_order = torch.stack(recons_right_order)"
   ]
  },
  {
   "cell_type": "code",
   "execution_count": 74,
   "id": "ba1c4e58-165e-4dc1-9faa-c2dff011e124",
   "metadata": {},
   "outputs": [],
   "source": [
    "torch.save({'arr': recons_right_order, 'label_arr': torch.load(recons_path)['label_arr']}, \"/workspace/MRI-inpainting-project/I2SB/results/Split3T1/samples_nfe999/recon_right_order.pt\")"
   ]
  },
  {
   "cell_type": "code",
   "execution_count": null,
   "id": "72f4ab75-6553-4ae8-9c76-080d1620d04b",
   "metadata": {},
   "outputs": [],
   "source": []
  },
  {
   "cell_type": "code",
   "execution_count": 78,
   "id": "54c13e63-792f-4423-a683-fae63884d9a7",
   "metadata": {},
   "outputs": [],
   "source": [
    "recon_mri_dataset = ReconMRIDataset(recons_path, healthy_dataset, flair=False)"
   ]
  },
  {
   "cell_type": "code",
   "execution_count": 79,
   "id": "e4725264-65d7-4244-891a-805edae92be2",
   "metadata": {},
   "outputs": [],
   "source": [
    "sample = recon_mri_dataset[11]\n",
    "mri_recon, mask = sample['mri_recon'], sample['mask']"
   ]
  },
  {
   "cell_type": "code",
   "execution_count": 80,
   "id": "70758e7d-40d8-4ea6-9598-e507381551cf",
   "metadata": {},
   "outputs": [
    {
     "data": {
      "application/vnd.jupyter.widget-view+json": {
       "model_id": "f6de27c842f448d7be0f6a1c4b41e49f",
       "version_major": 2,
       "version_minor": 0
      },
      "text/plain": [
       "interactive(children=(RadioButtons(description='Slice plane selection:', options=('x-y', 'y-z', 'z-x'), style=…"
      ]
     },
     "metadata": {},
     "output_type": "display_data"
    },
    {
     "data": {
      "text/plain": [
       "<visualization_utils.ImageSliceViewer3D at 0x7fb459b9fd00>"
      ]
     },
     "execution_count": 80,
     "metadata": {},
     "output_type": "execute_result"
    }
   ],
   "source": [
    "ImageSliceViewer3D(mri_recon, mask, cmap='gray', mask_intensity=0.2)"
   ]
  },
  {
   "cell_type": "code",
   "execution_count": 81,
   "id": "6b7922a6-cf4c-49c1-889f-72eb141d1b07",
   "metadata": {},
   "outputs": [
    {
     "name": "stderr",
     "output_type": "stream",
     "text": [
      "100%|██████████| 77/77 [01:40<00:00,  1.31s/it]\n"
     ]
    }
   ],
   "source": [
    "for sample in tqdm(recon_mri_dataset):\n",
    "    mri_recon, mask, filename = sample['mri_recon'], sample['mask'], sample['filename']\n",
    "    \n",
    "    mri_recon = nib.Nifti1Image(mri_recon, affine=np.eye(4))\n",
    "    mask = nib.Nifti1Image(mask, affine=np.eye(4))\n",
    "\n",
    "    nib.save(mri_recon, \"/workspace/Features/Features/generated_mri/i2sb/3dunet_masks_new/split7/mri/\" + filename)\n",
    "    #nib.save(mask,      \"/workspace/Features/Features/generated_mri/i2sb/sphere_masks/masks/\" + filename)"
   ]
  },
  {
   "cell_type": "code",
   "execution_count": 82,
   "id": "cf5a3e09-52f6-4ea6-b238-7391e2f0b647",
   "metadata": {},
   "outputs": [
    {
     "data": {
      "text/plain": [
       "77"
      ]
     },
     "execution_count": 82,
     "metadata": {},
     "output_type": "execute_result"
    }
   ],
   "source": [
    "len(os.listdir(\"/workspace/Features/Features/generated_mri/i2sb/3dunet_masks_new/split7/mri\"))"
   ]
  }
 ],
 "metadata": {
  "kernelspec": {
   "display_name": "diffusion3d",
   "language": "python",
   "name": "diffusion3d"
  },
  "language_info": {
   "codemirror_mode": {
    "name": "ipython",
    "version": 3
   },
   "file_extension": ".py",
   "mimetype": "text/x-python",
   "name": "python",
   "nbconvert_exporter": "python",
   "pygments_lexer": "ipython3",
   "version": "3.10.0"
  }
 },
 "nbformat": 4,
 "nbformat_minor": 5
}
