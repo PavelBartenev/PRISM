{
 "cells": [
  {
   "cell_type": "code",
   "execution_count": 3,
   "id": "6be3adfc-d492-4cc1-9a1e-e090c3047abc",
   "metadata": {},
   "outputs": [],
   "source": [
    "import os\n",
    "import random\n",
    "import numpy as np\n",
    "from tqdm import tqdm\n",
    "import nibabel as nib\n",
    "import raster_geometry as rg\n",
    "import cv2\n",
    "import matplotlib.pyplot as plt\n",
    "\n",
    "from visualization_utils import ImageSliceViewer3D\n",
    "from datasets import TrainPatchesDataset, HealthyMRIDataset, PathologicalMRIDataset"
   ]
  },
  {
   "cell_type": "code",
   "execution_count": 4,
   "id": "f33587f7-71dc-49db-bd03-b34c762a93b6",
   "metadata": {},
   "outputs": [
    {
     "data": {
      "application/vnd.jupyter.widget-view+json": {
       "model_id": "76a5a0af9b974644bffde321d4ebae89",
       "version_major": 2,
       "version_minor": 0
      },
      "text/plain": [
       "interactive(children=(RadioButtons(description='Slice plane selection:', options=('x-y', 'y-z', 'z-x'), style=…"
      ]
     },
     "metadata": {},
     "output_type": "display_data"
    },
    {
     "data": {
      "text/plain": [
       "<visualization_utils.ImageSliceViewer3D at 0x7f01ac084f10>"
      ]
     },
     "execution_count": 4,
     "metadata": {},
     "output_type": "execute_result"
    }
   ],
   "source": [
    "mask_map = nib.load('../data/healthy_mri/healthy_masks/masks_map.nii.gz').get_fdata()\n",
    "mask_map.shape\n",
    "ImageSliceViewer3D(mask_map, cmap='gray')"
   ]
  },
  {
   "cell_type": "code",
   "execution_count": 7,
   "id": "10aef72f-893d-470a-bd71-5c0d484f6159",
   "metadata": {},
   "outputs": [
    {
     "data": {
      "text/plain": [
       "77"
      ]
     },
     "execution_count": 7,
     "metadata": {},
     "output_type": "execute_result"
    }
   ],
   "source": [
    "healthy_mri = HealthyMRIDataset('../data/healthy_mri_C_00/healthy_mri_t1')\n",
    "len(healthy_mri)"
   ]
  },
  {
   "cell_type": "markdown",
   "id": "5b7f539f-9f90-4565-8ac4-ad8ea4236fb9",
   "metadata": {},
   "source": [
    "## Simple sphere masks"
   ]
  },
  {
   "cell_type": "code",
   "execution_count": 8,
   "id": "f0465ed5-a14a-4f91-b65b-34ce9fe9e64b",
   "metadata": {},
   "outputs": [
    {
     "data": {
      "application/vnd.jupyter.widget-view+json": {
       "model_id": "0b3432aa73a24e2fa85c089f407d1b53",
       "version_major": 2,
       "version_minor": 0
      },
      "text/plain": [
       "interactive(children=(RadioButtons(description='Slice plane selection:', options=('x-y', 'y-z', 'z-x'), style=…"
      ]
     },
     "metadata": {},
     "output_type": "display_data"
    },
    {
     "data": {
      "text/plain": [
       "<visualization_utils.ImageSliceViewer3D at 0x7f00e5deab80>"
      ]
     },
     "execution_count": 8,
     "metadata": {},
     "output_type": "execute_result"
    }
   ],
   "source": [
    "patch_size = 40\n",
    "\n",
    "mask_map[:patch_size, :, :] = 0\n",
    "mask_map[-patch_size:, :, :] = 0\n",
    "mask_map[:, :patch_size, :] = 0\n",
    "mask_map[:, -patch_size:, :] = 0\n",
    "mask_map[:, :, :patch_size] = 0\n",
    "mask_map[:, :, -patch_size:] = 0\n",
    "\n",
    "ImageSliceViewer3D(mask_map, cmap='gray')"
   ]
  },
  {
   "cell_type": "code",
   "execution_count": 9,
   "id": "28372f64-f7d3-4ede-b6c1-59d42eb3e9ce",
   "metadata": {},
   "outputs": [
    {
     "name": "stderr",
     "output_type": "stream",
     "text": [
      "100%|██████████| 157/157 [02:33<00:00,  1.02it/s]\n"
     ]
    }
   ],
   "source": [
    "high_left_corners = []\n",
    "sphere = rg.sphere(40, 8)\n",
    "\n",
    "for i in tqdm(range(mask_map.shape[0] - patch_size)):\n",
    "    for j in range(mask_map.shape[1] - patch_size):\n",
    "        for k in range(mask_map.shape[2] - patch_size):\n",
    "            cube = mask_map[i:i+patch_size, j:j+patch_size, k:k+patch_size]\n",
    "            if np.all(cube[sphere] == 1):\n",
    "                high_left_corners.append((i, j, k))"
   ]
  },
  {
   "cell_type": "code",
   "execution_count": 10,
   "id": "ba3703c0-e9e3-452b-b644-19cf08d9acbb",
   "metadata": {},
   "outputs": [
    {
     "name": "stderr",
     "output_type": "stream",
     "text": [
      "100%|██████████| 77/77 [00:10<00:00,  7.50it/s]\n"
     ]
    }
   ],
   "source": [
    "sphere_masks = []\n",
    "patch_masks = []\n",
    "\n",
    "for sample in tqdm(healthy_mri):\n",
    "    mask = np.zeros_like(sample['mri'])\n",
    "    patch = np.zeros_like(sample['mri'])\n",
    "    patch_x, patch_y, patch_z = random.choices(high_left_corners)[0]\n",
    "    patch[patch_x:patch_x+patch_size, patch_y:patch_y+patch_size, patch_z:patch_z+patch_size] = 1\n",
    "    mask[patch_x:patch_x+patch_size, patch_y:patch_y+patch_size, patch_z:patch_z+patch_size] = sphere\n",
    "    patch_masks.append((patch, sample['filename']))\n",
    "    sphere_masks.append((mask, sample['filename']))"
   ]
  },
  {
   "cell_type": "code",
   "execution_count": 32,
   "id": "11503af6-ad3a-4242-a32e-4e1792660ab5",
   "metadata": {},
   "outputs": [
    {
     "data": {
      "application/vnd.jupyter.widget-view+json": {
       "model_id": "4c00edbd9ca64cffba9ccf0e252b75fd",
       "version_major": 2,
       "version_minor": 0
      },
      "text/plain": [
       "interactive(children=(RadioButtons(description='Slice plane selection:', options=('x-y', 'y-z', 'z-x'), style=…"
      ]
     },
     "metadata": {},
     "output_type": "display_data"
    },
    {
     "data": {
      "text/plain": [
       "<visualization_utils.ImageSliceViewer3D at 0x7f00e03943a0>"
      ]
     },
     "execution_count": 32,
     "metadata": {},
     "output_type": "execute_result"
    }
   ],
   "source": [
    "ImageSliceViewer3D(patch_masks[2][0], cmap='gray')"
   ]
  },
  {
   "cell_type": "code",
   "execution_count": 15,
   "id": "f19b3de3-ce36-4804-98cf-6ff6dd12170d",
   "metadata": {},
   "outputs": [],
   "source": [
    "for mask, filename in sphere_masks:\n",
    "    nib_mask = nib.Nifti1Image(mask, affine=np.eye(4))\n",
    "    maskname = filename.split('.')[0] + \"-mask.nii.gz\"\n",
    "    nib.save(nib_mask, f\"../data/healthy_mri_C_00/healthy_masks_t1/sphere_masks/masks/{maskname}\")\n",
    "\n",
    "for patch_mask, filename in patch_masks:\n",
    "    nib_patch_mask = nib.Nifti1Image(patch_mask, affine=np.eye(4))\n",
    "    patchmaskname = filename.split('.')[0] + \"-patch-mask.nii.gz\"\n",
    "    nib.save(nib_patch_mask, f\"../data/healthy_mri_C_00/healthy_masks_t1/sphere_masks/patch_masks/{patchmaskname}\")"
   ]
  },
  {
   "cell_type": "code",
   "execution_count": 19,
   "id": "bfda229d-00d0-4a85-b1da-10f1446988ed",
   "metadata": {},
   "outputs": [
    {
     "data": {
      "text/plain": [
       "(77, 77)"
      ]
     },
     "execution_count": 19,
     "metadata": {},
     "output_type": "execute_result"
    }
   ],
   "source": [
    "len(os.listdir(\"../data/healthy_mri_C_00/healthy_masks_t1/sphere_masks/masks\")), len(os.listdir(\"../data/healthy_mri_C_00/healthy_masks_t1/sphere_masks/patch_masks\"))"
   ]
  },
  {
   "cell_type": "code",
   "execution_count": 29,
   "id": "9d4b40f7-7ab4-4753-8749-730c8c3ba5cd",
   "metadata": {},
   "outputs": [],
   "source": [
    "healthy_mri_with_mask = HealthyMRIDataset(\"../data/healthy_mri_C_00/healthy_mri_t1\", \n",
    "                                          \"../data/healthy_mri_C_00/healthy_masks_t1/sphere_masks/masks\")"
   ]
  },
  {
   "cell_type": "code",
   "execution_count": 30,
   "id": "ada57c4f-a901-4fdf-afc7-70ea21d53b15",
   "metadata": {},
   "outputs": [
    {
     "data": {
      "application/vnd.jupyter.widget-view+json": {
       "model_id": "c0ecaa2fc4ff4871b359b7511f46946b",
       "version_major": 2,
       "version_minor": 0
      },
      "text/plain": [
       "interactive(children=(RadioButtons(description='Slice plane selection:', options=('x-y', 'y-z', 'z-x'), style=…"
      ]
     },
     "metadata": {},
     "output_type": "display_data"
    },
    {
     "data": {
      "text/plain": [
       "<visualization_utils.ImageSliceViewer3D at 0x7f00b582a670>"
      ]
     },
     "execution_count": 30,
     "metadata": {},
     "output_type": "execute_result"
    }
   ],
   "source": [
    "ImageSliceViewer3D(healthy_mri_with_mask[22][\"mri\"], healthy_mri_with_mask[22][\"mask\"], 0.2, cmap='gray')"
   ]
  }
 ],
 "metadata": {
  "kernelspec": {
   "display_name": "i2sb",
   "language": "python",
   "name": "my_env"
  },
  "language_info": {
   "codemirror_mode": {
    "name": "ipython",
    "version": 3
   },
   "file_extension": ".py",
   "mimetype": "text/x-python",
   "name": "python",
   "nbconvert_exporter": "python",
   "pygments_lexer": "ipython3",
   "version": "3.8.19"
  }
 },
 "nbformat": 4,
 "nbformat_minor": 5
}
