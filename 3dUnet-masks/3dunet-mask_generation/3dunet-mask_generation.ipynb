{
 "cells": [
  {
   "cell_type": "code",
   "execution_count": 1,
   "id": "6a7ba783-d28e-448f-b256-74240c1d0096",
   "metadata": {},
   "outputs": [],
   "source": [
    "import os\n",
    "import torch\n",
    "import torch.nn as nn\n",
    "import torch.nn.functional as F\n",
    "import torch.optim as optim\n",
    "from torch.utils.data import Dataset, DataLoader\n",
    "from tqdm import tqdm\n",
    "import numpy as np\n",
    "from IPython.display import clear_output\n",
    "import matplotlib.pyplot as plt\n",
    "import ipywidgets as ipyw\n",
    "from monai.losses import GeneralizedDiceLoss\n",
    "import sys\n",
    "from torch.utils.data import Subset\n",
    "from numpy.random import choice\n",
    "from scipy import ndimage as nd\n",
    "from scipy.ndimage import binary_opening\n",
    "import random\n",
    "import nibabel as nib\n",
    "import warnings\n",
    "warnings.filterwarnings(\"ignore\")\n",
    "\n",
    "\n",
    "class DoubleConv3D(nn.Module):\n",
    "    \"\"\"Two consecutive 3D convolutional layers with ReLU activation.\"\"\"\n",
    "    def __init__(self, in_channels, out_channels):\n",
    "        super(DoubleConv3D, self).__init__()\n",
    "        self.double_conv = nn.Sequential(\n",
    "            nn.Conv3d(in_channels, out_channels, kernel_size=3, padding=1, bias=False),\n",
    "            nn.BatchNorm3d(out_channels),\n",
    "            nn.ReLU(inplace=True),\n",
    "            nn.Conv3d(out_channels, out_channels, kernel_size=3, padding=1, bias=False),\n",
    "            nn.BatchNorm3d(out_channels),\n",
    "            nn.ReLU(inplace=True)\n",
    "        )\n",
    "    \n",
    "    def forward(self, x):\n",
    "        return self.double_conv(x)\n",
    "\n",
    "class UNet3D(nn.Module):\n",
    "    def __init__(self, in_channels=1, out_channels=1, features=[32, 64, 128, 256]):\n",
    "        super(UNet3D, self).__init__()\n",
    "        self.encoder_layers = nn.ModuleList()\n",
    "        self.pool = nn.MaxPool3d(kernel_size=2, stride=2)\n",
    "        \n",
    "        for feature in features:\n",
    "            self.encoder_layers.append(DoubleConv3D(in_channels, feature))\n",
    "            in_channels = feature\n",
    "        \n",
    "        self.bottleneck = DoubleConv3D(features[-1], features[-1]*2)\n",
    "        \n",
    "        self.up_transpose = nn.ModuleList()\n",
    "        self.decoder_layers = nn.ModuleList()\n",
    "        reversed_features = features[::-1]\n",
    "        decoder_in_channels = features[-1]*2  \n",
    "        for feature in reversed_features:\n",
    "            self.up_transpose.append(\n",
    "                nn.ConvTranspose3d(decoder_in_channels, feature, kernel_size=2, stride=2)\n",
    "            )\n",
    "            self.decoder_layers.append(DoubleConv3D(feature*2, feature))\n",
    "            decoder_in_channels = feature  \n",
    "        \n",
    "        self.conv_final = nn.Conv3d(features[0], out_channels, kernel_size=1)\n",
    "    \n",
    "    def forward(self, x):\n",
    "        skip_connections = []\n",
    "        \n",
    "        for encoder in self.encoder_layers:\n",
    "            x = encoder(x)\n",
    "            skip_connections.append(x)\n",
    "            x = self.pool(x)\n",
    "        \n",
    "        x = self.bottleneck(x)\n",
    "\n",
    "        skip_connections = skip_connections[::-1]\n",
    "        \n",
    "        for idx in range(len(self.up_transpose)):\n",
    "            x = self.up_transpose[idx](x)\n",
    "            skip_connection = skip_connections[idx]\n",
    "            \n",
    "            if x.shape != skip_connection.shape:\n",
    "                x = F.interpolate(x, size=skip_connection.shape[2:])\n",
    "            \n",
    "            x = torch.cat((skip_connection, x), dim=1)\n",
    "            x = self.decoder_layers[idx](x)\n",
    "        \n",
    "        x = self.conv_final(x)\n",
    "        return torch.sigmoid(x)  "
   ]
  },
  {
   "cell_type": "code",
   "execution_count": 2,
   "id": "c144b7e1-41c1-4748-b714-becadee8dac2",
   "metadata": {},
   "outputs": [],
   "source": [
    "device = 'cuda:3'"
   ]
  },
  {
   "cell_type": "code",
   "execution_count": 3,
   "id": "cef4d23d-cf3d-49dd-89ad-2b903051c2ed",
   "metadata": {},
   "outputs": [],
   "source": [
    "# get list of healthy subjects\n",
    "healthy_sub = ['00021', '00051', '00069', '00057', '00075', '00170', '00106', '00162',\n",
    " '00008', '00117', '00113', '00039', '00049', '00129', '00153', '00042', '00150',\n",
    " '00135', '00088', '00168', '00137', '00127', '00013', '00165', '00005', '00085',\n",
    " 'C8', '00119', '00084', '00169', '00031', '00022', 'C1', '00152',\n",
    " '00079', '00046', '00114', '00067', '00041', '00143', '00054', '00036', '00037',\n",
    " '00149', '00028', '00025', '00148', '00096', '00017', 'C2', '00163',\n",
    " '00052', '00104', '00029', '00164', '00019', '00147', '00011', '00007',\n",
    " '00157', '00030', '00155', '00102', 'C10', '00110', '00154', '00012', '00124',\n",
    " '00118', 'C6', '00056', '00002', 'C11', '00070', '00093', '00035', '00111']"
   ]
  },
  {
   "cell_type": "code",
   "execution_count": 4,
   "id": "3c1bcb5b-518a-44ed-83af-4c0cc421a52d",
   "metadata": {},
   "outputs": [],
   "source": [
    "# load masks\n",
    "lobe_masks = [nib.load('/workspace/Features/Features/templates/insula_lobe_mask.nii.gz').get_fdata(),\n",
    "             nib.load('/workspace/Features/Features/templates/temporal_lobe_mask.nii.gz').get_fdata(),\n",
    "             nib.load('/workspace/Features/Features/templates/parietal_lobe_mask.nii.gz').get_fdata(),\n",
    "             nib.load('/workspace/Features/Features/templates/frontal_lobe_mask.nii.gz').get_fdata(),\n",
    "             nib.load('/workspace/Features/Features/templates/occipital_lobe_mask.nii.gz').get_fdata()]\n",
    "# probabilities to be in one of the lobes\n",
    "prob_lobe = [0.029585798816568046,\n",
    "             0.42011834319526625,\n",
    "             0.16568047337278108,\n",
    "             0.3609467455621302,\n",
    "             0.023668639053254437]"
   ]
  },
  {
   "cell_type": "markdown",
   "id": "20b31aa9-5d63-4820-9331-63a16cd5e10b",
   "metadata": {},
   "source": [
    "\n",
    "Generation (subject, split, path_to_save, suffix)\n",
    "1. Randomly select a brain lobe out of 5\n",
    "2. Select the point at the intersection of the lobe mask and the gray matter mask (exclude the central stripe with a width of 9)\n",
    "3. Cut out the patch 40x40x40\n",
    "4. Send a patch to U-Net\n",
    "5. Generate a threshold for the area and split\n",
    "6. Take the result of the grid by threshold\n",
    "7. Check the area, if less than 100 voxels, run it again\n",
    "8. Remove small excess areas\n",
    "9. Remove the areas in the exclusive mask (cerebellum, etc.)\n",
    "10. Cross the mask with a mask of gray + white matter \n",
    "11. Insert into the mask according to the size of the brain\n",
    "12. If the mask lies in 2 hemispheres, remove part of the mask from the hemisphere where the smaller part lies.\n",
    "13. Save '{path_to_save}/sub-{subject}{suffix}.nii.gz '"
   ]
  },
  {
   "cell_type": "code",
   "execution_count": 5,
   "id": "f06f4254-607a-4e8a-b0e2-cb32c119f23a",
   "metadata": {},
   "outputs": [],
   "source": [
    "def random_crop_mask(sub, size, probs, lobe_masks, cond=False):\n",
    "    # choose one lobe \n",
    "    ind_lobe = choice([0,1,2,3,4], 1, p=probs)[0]\n",
    "    lobe_mask = lobe_masks[ind_lobe].copy()\n",
    "    # delete central part\n",
    "    lobe_mask[94:103] = 0\n",
    "    \n",
    "    GM = nib.load(f'/workspace/Features/Features/prep_wf/sub-{sub}/c1sub-{sub}_space-MNI152NLin2009asym_T1w.nii').get_fdata()\n",
    "    is_T1 = 1 # to check if there is the problem with GM mask\n",
    "    \n",
    "    points = np.array(np.where((GM>0.5)&(lobe_mask>50)))\n",
    "    if points.shape[1] == 0:# if there is the problem with GM mask for T1, we choose mask for T2\n",
    "        is_T1 = 0\n",
    "        GM = nib.load(f'/workspace/Features/Features/prep_wf/sub-{sub}/c1sub-{sub}_space-MNI152NLin2009asym_T2w.nii').get_fdata()\n",
    "        points = np.array(np.where((GM>0.5)&(lobe_mask>50)))\n",
    "    # choose randomly the point in the lobe to be a center of the patch    \n",
    "    ind = choice(np.arange(points.shape[1]), 1)[0]\n",
    "    p1, p2, p3 = points[0, ind], points[1, ind], points[2, ind]\n",
    "    s1, s2, s3 = size[0]//2, size[1]//2, size[2]//2\n",
    "    \n",
    "    mask = np.zeros_like(GM)\n",
    "    mask[p1-s1:p1+s1, p2-s2:p2+s2, p3-s3:p3+s3] = 1\n",
    "    return mask, is_T1, ind_lobe"
   ]
  },
  {
   "cell_type": "code",
   "execution_count": 6,
   "id": "ad228adb-6356-48d8-9840-c319f1f52318",
   "metadata": {},
   "outputs": [],
   "source": [
    "# Function to delete the small areas that not connected with the main one\n",
    "def postprocessing(input_scan):\n",
    "    labels_scan = np.zeros_like(input_scan)\n",
    "    output_scan = input_scan.copy()\n",
    "    morphed = nd.binary_opening(output_scan!=0, iterations=1)\n",
    "    # label connected components\n",
    "    pred_labels, _ = nd.label(input_scan, structure=np.ones((3,3,3)))\n",
    "    label_list = np.unique(pred_labels)\n",
    "    num_elements_by_lesion = nd.labeled_comprehension(input_scan, pred_labels, label_list, np.sum, float, 0)\n",
    "    max_elements_ind = np.array(num_elements_by_lesion).argmax()\n",
    "    current_voxels = np.stack(np.where(pred_labels == max_elements_ind), axis=1)\n",
    "    labels_scan[current_voxels[:,0], current_voxels[:,1], current_voxels[:,2]] = 1\n",
    "    return labels_scan"
   ]
  },
  {
   "cell_type": "code",
   "execution_count": 7,
   "id": "fde7f475-8391-4b55-a11a-aadf812b1a34",
   "metadata": {
    "scrolled": true
   },
   "outputs": [],
   "source": [
    "def generate(subs, split, path_to_save, suffix='_t1_brain-final'):\n",
    "    thrs1 = [0.05, 0.05, 0.05, 0.05, 0.05]\n",
    "    thrs2 = [0.55, 0.55, 0.6, 0.75, 0.4]\n",
    "    probs = [0.6, 0.4, 0.6, 0.7, 0.6]\n",
    "    new_mask_volume = []\n",
    "    new_masks = []\n",
    "    no_mask = []\n",
    "    ind_lobe = []\n",
    "\n",
    "    exclusive_mask = nib.load('/workspace/Features/Features/templates/exclusive_mask_MNI1mm_resampled.nii.gz').get_fdata()\n",
    "    \n",
    "    model = UNet3D(in_channels=2, out_channels=1).to(device)\n",
    "    model.load_state_dict(torch.load(f'unet3d_{split}.pth'))\n",
    "    for sub in tqdm(subs):\n",
    "        try:\n",
    "            volume = 0\n",
    "            while volume < 100:\n",
    "                patch_mask, is_T1, ind = random_crop_mask(sub, [40,40,40], prob_lobe, lobe_masks)\n",
    "                ind_lobe.append(ind)\n",
    "                mri_img = nib.load(f'/workspace/Features/Features/prep_wf/sub-{sub}/sub-{sub}_t1_brain-final.nii.gz')\n",
    "                mri = mri_img.get_fdata()\n",
    "                if is_T1:\n",
    "                    gm = nib.load(f'/workspace/Features/Features/prep_wf/sub-{sub}/c1sub-{sub}_space-MNI152NLin2009asym_T1w.nii').get_fdata()\n",
    "                    wm = nib.load(f'/workspace/Features/Features/prep_wf/sub-{sub}/c2sub-{sub}_space-MNI152NLin2009asym_T1w.nii').get_fdata()\n",
    "                else:\n",
    "                    gm = nib.load(f'/workspace/Features/Features/prep_wf/sub-{sub}/c1sub-{sub}_space-MNI152NLin2009asym_T2w.nii').get_fdata()\n",
    "                    wm = nib.load(f'/workspace/Features/Features/prep_wf/sub-{sub}/c2sub-{sub}_space-MNI152NLin2009asym_T2w.nii').get_fdata()\n",
    "                    \n",
    "                mri_patch = mri[patch_mask > 0].reshape(1, 40, 40, 40)\n",
    "                gm_patch = gm[patch_mask > 0].reshape(1, 40, 40, 40)\n",
    "                patch = np.stack([mri_patch, gm_patch], axis=0).reshape(2, 40, 40, 40)\n",
    "                patch = torch.tensor(patch.astype(np.float32))\n",
    "                gen_mask = model(patch.unsqueeze(0).to(device)).cpu().detach().numpy()\n",
    "            \n",
    "                thr1 = thrs1[ind]\n",
    "                thr2 = thrs2[ind]\n",
    "                prob = probs[ind]\n",
    "                step = 0.05\n",
    "                prob_ = np.linspace(prob, 1, num=round((thr2-thr1+step*1.9)/step))[1:]\n",
    "                thresh = choice(np.arange(thr1, thr2+step*0.9, step), 1, p=prob_/prob_.sum())[0]\n",
    "                gen_mask_th = (gen_mask > thresh).astype(np.float64)[0,0]\n",
    "                gen_mask_th = postprocessing(gen_mask_th) * (exclusive_mask[patch_mask > 0]<0.5).reshape(40, 40, 40)\n",
    "                volume = np.sum(gen_mask_th)\n",
    "            new_mask = np.zeros_like(mri)\n",
    "            new_mask[np.where(patch_mask > 0)] =  gen_mask_th.flatten()\n",
    "            if (new_mask[:98].sum() * new_mask[99:].sum()) != 0:\n",
    "                if new_mask[:98].sum() > new_mask[99:].sum():\n",
    "                    new_mask[99:] = 0\n",
    "                else:\n",
    "                    new_mask[:98] = 0\n",
    "            new_mask_volume.append(new_mask.sum())\n",
    "            new_masks.append(new_mask)\n",
    "\n",
    "            nib_mask = nib.Nifti1Image(new_mask*((gm>0.5)|(wm>0.5)), affine=mri_img.affine)\n",
    "            maskname = f'sub-{sub}{suffix}.nii.gz'\n",
    "            nib.save(nib_mask, f\"/workspace/Features/Features/generated_mri/i2sb/3dunet_masks_new/split{split}/masks/{maskname}\")\n",
    "        except:\n",
    "            no_mask.append(sub)\n",
    "            continue\n",
    "    return new_mask_volume, new_masks, no_mask, ind_lobe"
   ]
  },
  {
   "cell_type": "code",
   "execution_count": 8,
   "id": "54ff1793-ea84-454b-8ba4-43b6a9a5acc7",
   "metadata": {},
   "outputs": [
    {
     "name": "stderr",
     "output_type": "stream",
     "text": [
      "100%|██████████| 77/77 [01:18<00:00,  1.01s/it]\n"
     ]
    },
    {
     "name": "stdout",
     "output_type": "stream",
     "text": [
      "Problems for 0 subs\n"
     ]
    },
    {
     "name": "stderr",
     "output_type": "stream",
     "text": [
      "100%|██████████| 77/77 [01:23<00:00,  1.09s/it]\n"
     ]
    },
    {
     "name": "stdout",
     "output_type": "stream",
     "text": [
      "Problems for 0 subs\n"
     ]
    },
    {
     "name": "stderr",
     "output_type": "stream",
     "text": [
      "100%|██████████| 77/77 [01:14<00:00,  1.03it/s]\n"
     ]
    },
    {
     "name": "stdout",
     "output_type": "stream",
     "text": [
      "Problems for 0 subs\n"
     ]
    },
    {
     "name": "stderr",
     "output_type": "stream",
     "text": [
      "100%|██████████| 77/77 [01:11<00:00,  1.07it/s]\n"
     ]
    },
    {
     "name": "stdout",
     "output_type": "stream",
     "text": [
      "Problems for 0 subs\n"
     ]
    },
    {
     "name": "stderr",
     "output_type": "stream",
     "text": [
      "100%|██████████| 77/77 [01:11<00:00,  1.08it/s]\n"
     ]
    },
    {
     "name": "stdout",
     "output_type": "stream",
     "text": [
      "Problems for 0 subs\n"
     ]
    },
    {
     "name": "stderr",
     "output_type": "stream",
     "text": [
      "100%|██████████| 77/77 [01:12<00:00,  1.06it/s]\n"
     ]
    },
    {
     "name": "stdout",
     "output_type": "stream",
     "text": [
      "Problems for 0 subs\n"
     ]
    },
    {
     "name": "stderr",
     "output_type": "stream",
     "text": [
      "100%|██████████| 77/77 [01:11<00:00,  1.08it/s]\n"
     ]
    },
    {
     "name": "stdout",
     "output_type": "stream",
     "text": [
      "Problems for 0 subs\n"
     ]
    },
    {
     "name": "stderr",
     "output_type": "stream",
     "text": [
      "100%|██████████| 77/77 [01:11<00:00,  1.08it/s]"
     ]
    },
    {
     "name": "stdout",
     "output_type": "stream",
     "text": [
      "Problems for 0 subs\n"
     ]
    },
    {
     "name": "stderr",
     "output_type": "stream",
     "text": [
      "\n"
     ]
    }
   ],
   "source": [
    "for split in range(8):\n",
    "    new_mask_volume, new_masks, no_mask, ind_lobe = generate(healthy_sub, split, f'/workspace/Features/Features/generated_mri/i2sb/3dunet_masks_new/split{split}/masks')\n",
    "    print(f'Problems for {len(no_mask)} subs')"
   ]
  },
  {
   "cell_type": "code",
   "execution_count": null,
   "id": "9493e890-8bd2-4418-9a4a-1378be61d9c5",
   "metadata": {},
   "outputs": [],
   "source": []
  }
 ],
 "metadata": {
  "kernelspec": {
   "display_name": "Python 3",
   "language": "python",
   "name": "python3"
  },
  "language_info": {
   "codemirror_mode": {
    "name": "ipython",
    "version": 3
   },
   "file_extension": ".py",
   "mimetype": "text/x-python",
   "name": "python",
   "nbconvert_exporter": "python",
   "pygments_lexer": "ipython3",
   "version": "3.8.12"
  }
 },
 "nbformat": 4,
 "nbformat_minor": 5
}
