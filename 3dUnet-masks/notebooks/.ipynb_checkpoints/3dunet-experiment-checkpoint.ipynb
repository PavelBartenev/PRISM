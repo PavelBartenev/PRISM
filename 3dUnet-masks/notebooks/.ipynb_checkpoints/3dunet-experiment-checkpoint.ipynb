{
 "cells": [
  {
   "cell_type": "code",
   "execution_count": 1,
   "id": "6a7ba783-d28e-448f-b256-74240c1d0096",
   "metadata": {},
   "outputs": [],
   "source": [
    "import torch\n",
    "import torch.nn as nn\n",
    "import torch.nn.functional as F\n",
    "import torch.optim as optim\n",
    "from torch.utils.data import Dataset, DataLoader\n",
    "from tqdm import tqdm\n",
    "import numpy as np\n",
    "from IPython.display import clear_output\n",
    "import matplotlib.pyplot as plt\n",
    "\n",
    "import sys\n",
    "from torch.utils.data import Subset\n",
    "sys.path.append('/workspace/MRI-inpainting-project/data_scripts')\n",
    "\n",
    "from datasets import TrainPatchesDataset, HealthyMRIDataset, PathologicalMRIDataset\n",
    "from visualization_utils import ImageSliceViewer3D\n",
    "import nibabel as nib\n",
    "\n",
    "\n",
    "class DoubleConv3D(nn.Module):\n",
    "    \"\"\"Two consecutive 3D convolutional layers with ReLU activation.\"\"\"\n",
    "    def __init__(self, in_channels, out_channels):\n",
    "        super(DoubleConv3D, self).__init__()\n",
    "        self.double_conv = nn.Sequential(\n",
    "            nn.Conv3d(in_channels, out_channels, kernel_size=3, padding=1, bias=False),\n",
    "            nn.BatchNorm3d(out_channels),\n",
    "            nn.ReLU(inplace=True),\n",
    "            nn.Conv3d(out_channels, out_channels, kernel_size=3, padding=1, bias=False),\n",
    "            nn.BatchNorm3d(out_channels),\n",
    "            nn.ReLU(inplace=True)\n",
    "        )\n",
    "    \n",
    "    def forward(self, x):\n",
    "        return self.double_conv(x)\n",
    "\n",
    "class UNet3D(nn.Module):\n",
    "    def __init__(self, in_channels=1, out_channels=1, features=[32, 64, 128, 256]):\n",
    "        super(UNet3D, self).__init__()\n",
    "        self.encoder_layers = nn.ModuleList()\n",
    "        self.pool = nn.MaxPool3d(kernel_size=2, stride=2)\n",
    "        \n",
    "        for feature in features:\n",
    "            self.encoder_layers.append(DoubleConv3D(in_channels, feature))\n",
    "            in_channels = feature\n",
    "        \n",
    "        self.bottleneck = DoubleConv3D(features[-1], features[-1]*2)\n",
    "        \n",
    "        self.up_transpose = nn.ModuleList()\n",
    "        self.decoder_layers = nn.ModuleList()\n",
    "        reversed_features = features[::-1]\n",
    "        decoder_in_channels = features[-1]*2  \n",
    "        for feature in reversed_features:\n",
    "            self.up_transpose.append(\n",
    "                nn.ConvTranspose3d(decoder_in_channels, feature, kernel_size=2, stride=2)\n",
    "            )\n",
    "            self.decoder_layers.append(DoubleConv3D(feature*2, feature))\n",
    "            decoder_in_channels = feature  \n",
    "        \n",
    "        self.conv_final = nn.Conv3d(features[0], out_channels, kernel_size=1)\n",
    "    \n",
    "    def forward(self, x):\n",
    "        skip_connections = []\n",
    "        \n",
    "        for encoder in self.encoder_layers:\n",
    "            x = encoder(x)\n",
    "            skip_connections.append(x)\n",
    "            x = self.pool(x)\n",
    "        \n",
    "        x = self.bottleneck(x)\n",
    "\n",
    "        skip_connections = skip_connections[::-1]\n",
    "        \n",
    "        for idx in range(len(self.up_transpose)):\n",
    "            x = self.up_transpose[idx](x)\n",
    "            skip_connection = skip_connections[idx]\n",
    "            \n",
    "            if x.shape != skip_connection.shape:\n",
    "                x = F.interpolate(x, size=skip_connection.shape[2:])\n",
    "            \n",
    "            x = torch.cat((skip_connection, x), dim=1)\n",
    "            x = self.decoder_layers[idx](x)\n",
    "        \n",
    "        x = self.conv_final(x)\n",
    "        return torch.sigmoid(x)  \n",
    "\n",
    "\n",
    "class MRIDataset(Dataset):\n",
    "    def __init__(self, mri_data):\n",
    "        self.data = mri_data\n",
    "\n",
    "    def __len__(self):\n",
    "        return len(self.data)\n",
    "\n",
    "    def __getitem__(self, idx):\n",
    "        mri = self.data[idx]['patch'].astype(np.float32)\n",
    "        mask = self.data[idx]['mask'].astype(np.float32)\n",
    "        #prob_mask = self.data[idx]['prob_mask'].astype(np.float32)\n",
    "\n",
    "        return torch.tensor(mri).unsqueeze(0), torch.tensor(mask).unsqueeze(0) #torch.tensor(prob_mask).unsqueeze(0), torch.tensor(mask).unsqueeze(0)\n",
    "\n",
    "\n",
    "class DiceLoss(nn.Module):\n",
    "    def __init__(self, smooth=1):\n",
    "        super(DiceLoss, self).__init__()\n",
    "        self.smooth = smooth\n",
    "    \n",
    "    def forward(self, preds, targets):\n",
    "        preds = preds.contiguous()\n",
    "        targets = targets.contiguous()\n",
    "        \n",
    "        intersection = (preds * targets).sum(dim=(2,3,4))\n",
    "        dice = (2. * intersection + self.smooth) / (preds.sum(dim=(2,3,4)) + targets.sum(dim=(2,3,4)) + self.smooth)\n",
    "        return 1 - dice.mean()"
   ]
  },
  {
   "cell_type": "code",
   "execution_count": 2,
   "id": "1b3b2e2a-e066-4e77-b443-fdcaa254f648",
   "metadata": {},
   "outputs": [],
   "source": [
    "train_patches = TrainPatchesDataset(\"/workspace/MRI-inpainting-project/data/train_patches_v3\")\n",
    "healthy_data = HealthyMRIDataset('/workspace/MRI-inpainting-project/data/healthy_mri_C_00/healthy_mri_t1',\n",
    "                                 '/workspace/MRI-inpainting-project/data/healthy_mri_C_00/healthy_masks_t1/sphere_masks/masks',\n",
    "                                 '/workspace/MRI-inpainting-project/data/healthy_mri_C_00/healthy_masks_t1/sphere_masks/patch_masks')\n",
    "\n",
    "train_ids = np.arange(0, len(train_patches) - 10)\n",
    "val_ids = np.arange(len(train_patches) - 10, len(train_patches))\n",
    "train_dataset = MRIDataset(train_patches)\n",
    "val_dataset = MRIDataset(Subset(train_patches, val_ids))\n",
    "\n",
    "train_loader = DataLoader(train_dataset, batch_size=4, shuffle=True, num_workers=2)\n",
    "val_loader = DataLoader(val_dataset, batch_size=4, shuffle=False, num_workers=2)"
   ]
  },
  {
   "cell_type": "code",
   "execution_count": 41,
   "id": "9e6f479e-425f-482a-827e-7c2bc6873f1f",
   "metadata": {},
   "outputs": [
    {
     "name": "stdout",
     "output_type": "stream",
     "text": [
      "\u001b[33mWARNING: Running pip as the 'root' user can result in broken permissions and conflicting behaviour with the system package manager. It is recommended to use a virtual environment instead: https://pip.pypa.io/warnings/venv\u001b[0m\u001b[33m\n",
      "\u001b[0m\n",
      "\u001b[1m[\u001b[0m\u001b[34;49mnotice\u001b[0m\u001b[1;39;49m]\u001b[0m\u001b[39;49m A new release of pip is available: \u001b[0m\u001b[31;49m23.3.1\u001b[0m\u001b[39;49m -> \u001b[0m\u001b[32;49m24.2\u001b[0m\n",
      "\u001b[1m[\u001b[0m\u001b[34;49mnotice\u001b[0m\u001b[1;39;49m]\u001b[0m\u001b[39;49m To update, run: \u001b[0m\u001b[32;49mpip install --upgrade pip\u001b[0m\n"
     ]
    },
    {
     "name": "stderr",
     "output_type": "stream",
     "text": [
      "\u001b[1;38;5;214mCOMET WARNING:\u001b[0m To get all data logged automatically, import comet_ml before the following modules: torch.\n",
      "\u001b[1;38;5;214mCOMET WARNING:\u001b[0m As you are running in a Jupyter environment, you will need to call `experiment.end()` when finished to ensure all metrics and code are logged before exiting.\n",
      "\u001b[1;38;5;39mCOMET INFO:\u001b[0m Experiment is live on comet.com https://www.comet.com/pavelbartenev/general/20ce06a19c0f426aad66e0074e624f49\n",
      "\n"
     ]
    }
   ],
   "source": [
    "!pip install --quiet --upgrade comet_ml\n",
    "from comet_ml import Experiment\n",
    "    \n",
    "# Create an experiment with your api key\n",
    "experiment = Experiment(\"lVHrwe9BODgMYV1xca8QoEYs8\")"
   ]
  },
  {
   "cell_type": "code",
   "execution_count": 5,
   "id": "32a6efa8-dbe4-4524-8c3c-2d9c5a3f70da",
   "metadata": {},
   "outputs": [],
   "source": [
    "def train_model(model, criterion, optimizer, num_epochs, weight_decay, cond=False):\n",
    "    val_losses = []\n",
    "    train_losses = []\n",
    "    step_counter = 0  \n",
    "    log_name_suff = f\"_{weight_decay}_cond\" if cond else f\"_{weight_decay}\"\n",
    "    \n",
    "    \n",
    "    for epoch in range(num_epochs):\n",
    "        model.train()\n",
    "        epoch_loss = 0\n",
    "        loop = tqdm(train_loader, desc=f\"Epoch [{epoch+1}/{num_epochs}]\")\n",
    "        \n",
    "        for batch_idx, (inputs, prob_mask, masks) in enumerate(loop):\n",
    "            inputs = inputs.to(device)\n",
    "            masks = masks.to(device)\n",
    "\n",
    "            if cond:\n",
    "                prob_mask = prob_mask.to(device)\n",
    "                inputs = torch.cat((inputs, masks), dim=1)\n",
    "            \n",
    "            outputs = model(inputs)\n",
    "            loss = criterion(outputs, masks)\n",
    "            \n",
    "            optimizer.zero_grad()\n",
    "            loss.backward()\n",
    "            optimizer.step()\n",
    "            \n",
    "            epoch_loss += loss.item()\n",
    "            loop.set_postfix(loss=loss.item())\n",
    "            \n",
    "            experiment.log_metric(\"train_loss\" + log_name_suff, loss.item(), step=step_counter, epoch=epoch)\n",
    "            step_counter += 1\n",
    "\n",
    "        avg_loss = epoch_loss / len(train_loader)\n",
    "        train_losses.append(avg_loss)\n",
    "        \n",
    "        #experiment.log_metric(\"avg_train_loss\" + log_name_suff, avg_loss, step=epoch, epoch=epoch)\n",
    "        \n",
    "        model.eval()\n",
    "        val_loss = 0\n",
    "        with torch.no_grad():\n",
    "            for inputs, prob_mask, masks in val_loader:\n",
    "                inputs = inputs.to(device)\n",
    "                masks = masks.to(device)\n",
    "\n",
    "                if cond:\n",
    "                    prob_mask = prob_mask.to(device)\n",
    "                    inputs = torch.cat((inputs, masks), dim=1)\n",
    "                \n",
    "                outputs = model(inputs)\n",
    "                loss = criterion(outputs, masks)\n",
    "                val_loss += loss.item()\n",
    "                \n",
    "                # Optionally log validation loss per batch\n",
    "                #experiment.log_metric(\"val_loss\" + log_name_suff, loss.item(), step=step_counter, epoch=epoch)\n",
    "                step_counter += 1\n",
    "        \n",
    "        avg_val_loss = val_loss / len(val_loader)\n",
    "        val_losses.append(avg_val_loss)\n",
    "        \n",
    "        # Log average validation loss per epoch\n",
    "       # experiment.log_metric(\"avg_val_loss\" + log_name_suff, avg_val_loss, step=epoch, epoch=epoch)\n",
    "    \n",
    "        # Plotting\n",
    "        clear_output()\n",
    "        plt.figure()\n",
    "        plt.plot(train_losses, label='train loss')\n",
    "        plt.title('Train')\n",
    "        plt.legend()\n",
    "        plt.show()\n",
    "        \n",
    "        plt.figure()\n",
    "        plt.plot(val_losses, label='val loss')\n",
    "        plt.title('Validation')\n",
    "        plt.legend()\n",
    "        plt.show()\n",
    "    \n",
    "    model_path = f'unet3d_{weight_decay}.pth'\n",
    "    torch.save(model.state_dict(), model_path)\n",
    "\n",
    "    return train_losses, val_losses"
   ]
  },
  {
   "cell_type": "markdown",
   "id": "65b36e62-64d5-4c37-898b-36994c113242",
   "metadata": {},
   "source": [
    "#### 3DUnet without condition"
   ]
  },
  {
   "cell_type": "code",
   "execution_count": 6,
   "id": "5503f767-0627-40f2-93c2-fb73c564f79d",
   "metadata": {},
   "outputs": [],
   "source": [
    "device = torch.device(\"cuda:2\" if torch.cuda.is_available() else \"cpu\")\n",
    "\n",
    "criterion = nn.BCELoss()\n",
    "#experiment.set_name(\"3DUnet\")"
   ]
  },
  {
   "cell_type": "code",
   "execution_count": 7,
   "id": "1f69a2b3-a50e-42cb-8ca3-fb4765a8f16d",
   "metadata": {},
   "outputs": [
    {
     "name": "stderr",
     "output_type": "stream",
     "text": [
      "Epoch [1/100]:   0%|          | 0/43 [00:00<?, ?it/s]\n"
     ]
    },
    {
     "ename": "KeyError",
     "evalue": "Caught KeyError in DataLoader worker process 0.\nOriginal Traceback (most recent call last):\n  File \"/root/miniconda3/lib/python3.8/site-packages/torch/utils/data/_utils/worker.py\", line 302, in _worker_loop\n    data = fetcher.fetch(index)\n  File \"/root/miniconda3/lib/python3.8/site-packages/torch/utils/data/_utils/fetch.py\", line 49, in fetch\n    data = [self.dataset[idx] for idx in possibly_batched_index]\n  File \"/root/miniconda3/lib/python3.8/site-packages/torch/utils/data/_utils/fetch.py\", line 49, in <listcomp>\n    data = [self.dataset[idx] for idx in possibly_batched_index]\n  File \"<ipython-input-1-facf2bc2b33f>\", line 97, in __getitem__\n    prob_mask = self.data[idx]['prob_mask'].astype(np.float32)\nKeyError: 'prob_mask'\n",
     "output_type": "error",
     "traceback": [
      "\u001b[0;31m---------------------------------------------------------------------------\u001b[0m",
      "\u001b[0;31mKeyError\u001b[0m                                  Traceback (most recent call last)",
      "\u001b[0;32m<ipython-input-7-56590d563d7c>\u001b[0m in \u001b[0;36m<module>\u001b[0;34m\u001b[0m\n\u001b[1;32m      5\u001b[0m     \u001b[0mmodel\u001b[0m \u001b[0;34m=\u001b[0m \u001b[0mUNet3D\u001b[0m\u001b[0;34m(\u001b[0m\u001b[0min_channels\u001b[0m\u001b[0;34m=\u001b[0m\u001b[0;36m1\u001b[0m\u001b[0;34m,\u001b[0m \u001b[0mout_channels\u001b[0m\u001b[0;34m=\u001b[0m\u001b[0;36m1\u001b[0m\u001b[0;34m)\u001b[0m\u001b[0;34m.\u001b[0m\u001b[0mto\u001b[0m\u001b[0;34m(\u001b[0m\u001b[0mdevice\u001b[0m\u001b[0;34m)\u001b[0m\u001b[0;34m\u001b[0m\u001b[0;34m\u001b[0m\u001b[0m\n\u001b[1;32m      6\u001b[0m     \u001b[0moptimizer\u001b[0m \u001b[0;34m=\u001b[0m \u001b[0moptim\u001b[0m\u001b[0;34m.\u001b[0m\u001b[0mAdam\u001b[0m\u001b[0;34m(\u001b[0m\u001b[0mmodel\u001b[0m\u001b[0;34m.\u001b[0m\u001b[0mparameters\u001b[0m\u001b[0;34m(\u001b[0m\u001b[0;34m)\u001b[0m\u001b[0;34m,\u001b[0m \u001b[0mlr\u001b[0m\u001b[0;34m=\u001b[0m\u001b[0;36m1e-4\u001b[0m\u001b[0;34m,\u001b[0m \u001b[0mweight_decay\u001b[0m\u001b[0;34m=\u001b[0m\u001b[0mweight_decay\u001b[0m\u001b[0;34m)\u001b[0m\u001b[0;34m\u001b[0m\u001b[0;34m\u001b[0m\u001b[0m\n\u001b[0;32m----> 7\u001b[0;31m     \u001b[0mtrain_model\u001b[0m\u001b[0;34m(\u001b[0m\u001b[0mmodel\u001b[0m\u001b[0;34m,\u001b[0m \u001b[0mcriterion\u001b[0m\u001b[0;34m,\u001b[0m \u001b[0moptimizer\u001b[0m\u001b[0;34m,\u001b[0m \u001b[0mnum_epochs\u001b[0m\u001b[0;34m,\u001b[0m \u001b[0mweight_decay\u001b[0m\u001b[0;34m)\u001b[0m\u001b[0;34m\u001b[0m\u001b[0;34m\u001b[0m\u001b[0m\n\u001b[0m",
      "\u001b[0;32m<ipython-input-5-84cb6b419679>\u001b[0m in \u001b[0;36mtrain_model\u001b[0;34m(model, criterion, optimizer, num_epochs, weight_decay, cond)\u001b[0m\n\u001b[1;32m     11\u001b[0m         \u001b[0mloop\u001b[0m \u001b[0;34m=\u001b[0m \u001b[0mtqdm\u001b[0m\u001b[0;34m(\u001b[0m\u001b[0mtrain_loader\u001b[0m\u001b[0;34m,\u001b[0m \u001b[0mdesc\u001b[0m\u001b[0;34m=\u001b[0m\u001b[0;34mf\"Epoch [{epoch+1}/{num_epochs}]\"\u001b[0m\u001b[0;34m)\u001b[0m\u001b[0;34m\u001b[0m\u001b[0;34m\u001b[0m\u001b[0m\n\u001b[1;32m     12\u001b[0m \u001b[0;34m\u001b[0m\u001b[0m\n\u001b[0;32m---> 13\u001b[0;31m         \u001b[0;32mfor\u001b[0m \u001b[0mbatch_idx\u001b[0m\u001b[0;34m,\u001b[0m \u001b[0;34m(\u001b[0m\u001b[0minputs\u001b[0m\u001b[0;34m,\u001b[0m \u001b[0mprob_mask\u001b[0m\u001b[0;34m,\u001b[0m \u001b[0mmasks\u001b[0m\u001b[0;34m)\u001b[0m \u001b[0;32min\u001b[0m \u001b[0menumerate\u001b[0m\u001b[0;34m(\u001b[0m\u001b[0mloop\u001b[0m\u001b[0;34m)\u001b[0m\u001b[0;34m:\u001b[0m\u001b[0;34m\u001b[0m\u001b[0;34m\u001b[0m\u001b[0m\n\u001b[0m\u001b[1;32m     14\u001b[0m             \u001b[0minputs\u001b[0m \u001b[0;34m=\u001b[0m \u001b[0minputs\u001b[0m\u001b[0;34m.\u001b[0m\u001b[0mto\u001b[0m\u001b[0;34m(\u001b[0m\u001b[0mdevice\u001b[0m\u001b[0;34m)\u001b[0m\u001b[0;34m\u001b[0m\u001b[0;34m\u001b[0m\u001b[0m\n\u001b[1;32m     15\u001b[0m             \u001b[0mmasks\u001b[0m \u001b[0;34m=\u001b[0m \u001b[0mmasks\u001b[0m\u001b[0;34m.\u001b[0m\u001b[0mto\u001b[0m\u001b[0;34m(\u001b[0m\u001b[0mdevice\u001b[0m\u001b[0;34m)\u001b[0m\u001b[0;34m\u001b[0m\u001b[0;34m\u001b[0m\u001b[0m\n",
      "\u001b[0;32m~/miniconda3/lib/python3.8/site-packages/tqdm/std.py\u001b[0m in \u001b[0;36m__iter__\u001b[0;34m(self)\u001b[0m\n\u001b[1;32m   1125\u001b[0m \u001b[0;34m\u001b[0m\u001b[0m\n\u001b[1;32m   1126\u001b[0m         \u001b[0;32mtry\u001b[0m\u001b[0;34m:\u001b[0m\u001b[0;34m\u001b[0m\u001b[0;34m\u001b[0m\u001b[0m\n\u001b[0;32m-> 1127\u001b[0;31m             \u001b[0;32mfor\u001b[0m \u001b[0mobj\u001b[0m \u001b[0;32min\u001b[0m \u001b[0miterable\u001b[0m\u001b[0;34m:\u001b[0m\u001b[0;34m\u001b[0m\u001b[0;34m\u001b[0m\u001b[0m\n\u001b[0m\u001b[1;32m   1128\u001b[0m                 \u001b[0;32myield\u001b[0m \u001b[0mobj\u001b[0m\u001b[0;34m\u001b[0m\u001b[0;34m\u001b[0m\u001b[0m\n\u001b[1;32m   1129\u001b[0m                 \u001b[0;31m# Update and possibly print the progressbar.\u001b[0m\u001b[0;34m\u001b[0m\u001b[0;34m\u001b[0m\u001b[0;34m\u001b[0m\u001b[0m\n",
      "\u001b[0;32m~/miniconda3/lib/python3.8/site-packages/torch/utils/data/dataloader.py\u001b[0m in \u001b[0;36m__next__\u001b[0;34m(self)\u001b[0m\n\u001b[1;32m    679\u001b[0m                 \u001b[0;31m# TODO(https://github.com/pytorch/pytorch/issues/76750)\u001b[0m\u001b[0;34m\u001b[0m\u001b[0;34m\u001b[0m\u001b[0;34m\u001b[0m\u001b[0m\n\u001b[1;32m    680\u001b[0m                 \u001b[0mself\u001b[0m\u001b[0;34m.\u001b[0m\u001b[0m_reset\u001b[0m\u001b[0;34m(\u001b[0m\u001b[0;34m)\u001b[0m  \u001b[0;31m# type: ignore[call-arg]\u001b[0m\u001b[0;34m\u001b[0m\u001b[0;34m\u001b[0m\u001b[0m\n\u001b[0;32m--> 681\u001b[0;31m             \u001b[0mdata\u001b[0m \u001b[0;34m=\u001b[0m \u001b[0mself\u001b[0m\u001b[0;34m.\u001b[0m\u001b[0m_next_data\u001b[0m\u001b[0;34m(\u001b[0m\u001b[0;34m)\u001b[0m\u001b[0;34m\u001b[0m\u001b[0;34m\u001b[0m\u001b[0m\n\u001b[0m\u001b[1;32m    682\u001b[0m             \u001b[0mself\u001b[0m\u001b[0;34m.\u001b[0m\u001b[0m_num_yielded\u001b[0m \u001b[0;34m+=\u001b[0m \u001b[0;36m1\u001b[0m\u001b[0;34m\u001b[0m\u001b[0;34m\u001b[0m\u001b[0m\n\u001b[1;32m    683\u001b[0m             \u001b[0;32mif\u001b[0m \u001b[0mself\u001b[0m\u001b[0;34m.\u001b[0m\u001b[0m_dataset_kind\u001b[0m \u001b[0;34m==\u001b[0m \u001b[0m_DatasetKind\u001b[0m\u001b[0;34m.\u001b[0m\u001b[0mIterable\u001b[0m \u001b[0;32mand\u001b[0m\u001b[0;31m \u001b[0m\u001b[0;31m\\\u001b[0m\u001b[0;34m\u001b[0m\u001b[0;34m\u001b[0m\u001b[0m\n",
      "\u001b[0;32m~/miniconda3/lib/python3.8/site-packages/torch/utils/data/dataloader.py\u001b[0m in \u001b[0;36m_next_data\u001b[0;34m(self)\u001b[0m\n\u001b[1;32m   1374\u001b[0m             \u001b[0;32melse\u001b[0m\u001b[0;34m:\u001b[0m\u001b[0;34m\u001b[0m\u001b[0;34m\u001b[0m\u001b[0m\n\u001b[1;32m   1375\u001b[0m                 \u001b[0;32mdel\u001b[0m \u001b[0mself\u001b[0m\u001b[0;34m.\u001b[0m\u001b[0m_task_info\u001b[0m\u001b[0;34m[\u001b[0m\u001b[0midx\u001b[0m\u001b[0;34m]\u001b[0m\u001b[0;34m\u001b[0m\u001b[0;34m\u001b[0m\u001b[0m\n\u001b[0;32m-> 1376\u001b[0;31m                 \u001b[0;32mreturn\u001b[0m \u001b[0mself\u001b[0m\u001b[0;34m.\u001b[0m\u001b[0m_process_data\u001b[0m\u001b[0;34m(\u001b[0m\u001b[0mdata\u001b[0m\u001b[0;34m)\u001b[0m\u001b[0;34m\u001b[0m\u001b[0;34m\u001b[0m\u001b[0m\n\u001b[0m\u001b[1;32m   1377\u001b[0m \u001b[0;34m\u001b[0m\u001b[0m\n\u001b[1;32m   1378\u001b[0m     \u001b[0;32mdef\u001b[0m \u001b[0m_try_put_index\u001b[0m\u001b[0;34m(\u001b[0m\u001b[0mself\u001b[0m\u001b[0;34m)\u001b[0m\u001b[0;34m:\u001b[0m\u001b[0;34m\u001b[0m\u001b[0;34m\u001b[0m\u001b[0m\n",
      "\u001b[0;32m~/miniconda3/lib/python3.8/site-packages/torch/utils/data/dataloader.py\u001b[0m in \u001b[0;36m_process_data\u001b[0;34m(self, data)\u001b[0m\n\u001b[1;32m   1400\u001b[0m         \u001b[0mself\u001b[0m\u001b[0;34m.\u001b[0m\u001b[0m_try_put_index\u001b[0m\u001b[0;34m(\u001b[0m\u001b[0;34m)\u001b[0m\u001b[0;34m\u001b[0m\u001b[0;34m\u001b[0m\u001b[0m\n\u001b[1;32m   1401\u001b[0m         \u001b[0;32mif\u001b[0m \u001b[0misinstance\u001b[0m\u001b[0;34m(\u001b[0m\u001b[0mdata\u001b[0m\u001b[0;34m,\u001b[0m \u001b[0mExceptionWrapper\u001b[0m\u001b[0;34m)\u001b[0m\u001b[0;34m:\u001b[0m\u001b[0;34m\u001b[0m\u001b[0;34m\u001b[0m\u001b[0m\n\u001b[0;32m-> 1402\u001b[0;31m             \u001b[0mdata\u001b[0m\u001b[0;34m.\u001b[0m\u001b[0mreraise\u001b[0m\u001b[0;34m(\u001b[0m\u001b[0;34m)\u001b[0m\u001b[0;34m\u001b[0m\u001b[0;34m\u001b[0m\u001b[0m\n\u001b[0m\u001b[1;32m   1403\u001b[0m         \u001b[0;32mreturn\u001b[0m \u001b[0mdata\u001b[0m\u001b[0;34m\u001b[0m\u001b[0;34m\u001b[0m\u001b[0m\n\u001b[1;32m   1404\u001b[0m \u001b[0;34m\u001b[0m\u001b[0m\n",
      "\u001b[0;32m~/miniconda3/lib/python3.8/site-packages/torch/_utils.py\u001b[0m in \u001b[0;36mreraise\u001b[0;34m(self)\u001b[0m\n\u001b[1;32m    459\u001b[0m             \u001b[0;31m# instantiate since we don't know how to\u001b[0m\u001b[0;34m\u001b[0m\u001b[0;34m\u001b[0m\u001b[0;34m\u001b[0m\u001b[0m\n\u001b[1;32m    460\u001b[0m             \u001b[0;32mraise\u001b[0m \u001b[0mRuntimeError\u001b[0m\u001b[0;34m(\u001b[0m\u001b[0mmsg\u001b[0m\u001b[0;34m)\u001b[0m \u001b[0;32mfrom\u001b[0m \u001b[0;32mNone\u001b[0m\u001b[0;34m\u001b[0m\u001b[0;34m\u001b[0m\u001b[0m\n\u001b[0;32m--> 461\u001b[0;31m         \u001b[0;32mraise\u001b[0m \u001b[0mexception\u001b[0m\u001b[0;34m\u001b[0m\u001b[0;34m\u001b[0m\u001b[0m\n\u001b[0m\u001b[1;32m    462\u001b[0m \u001b[0;34m\u001b[0m\u001b[0m\n\u001b[1;32m    463\u001b[0m \u001b[0;34m\u001b[0m\u001b[0m\n",
      "\u001b[0;31mKeyError\u001b[0m: Caught KeyError in DataLoader worker process 0.\nOriginal Traceback (most recent call last):\n  File \"/root/miniconda3/lib/python3.8/site-packages/torch/utils/data/_utils/worker.py\", line 302, in _worker_loop\n    data = fetcher.fetch(index)\n  File \"/root/miniconda3/lib/python3.8/site-packages/torch/utils/data/_utils/fetch.py\", line 49, in fetch\n    data = [self.dataset[idx] for idx in possibly_batched_index]\n  File \"/root/miniconda3/lib/python3.8/site-packages/torch/utils/data/_utils/fetch.py\", line 49, in <listcomp>\n    data = [self.dataset[idx] for idx in possibly_batched_index]\n  File \"<ipython-input-1-facf2bc2b33f>\", line 97, in __getitem__\n    prob_mask = self.data[idx]['prob_mask'].astype(np.float32)\nKeyError: 'prob_mask'\n"
     ]
    }
   ],
   "source": [
    "num_epochs = 100\n",
    "weight_decay_grid = [0, 0.01, 0.05, 0.1]\n",
    "\n",
    "for weight_decay in weight_decay_grid:\n",
    "    model = UNet3D(in_channels=1, out_channels=1).to(device)\n",
    "    optimizer = optim.Adam(model.parameters(), lr=1e-4, weight_decay=weight_decay)\n",
    "    train_model(model, criterion, optimizer, num_epochs, weight_decay)"
   ]
  },
  {
   "cell_type": "code",
   "execution_count": 47,
   "id": "cf7a5d65-7fb9-4cfb-bf62-d775079773f1",
   "metadata": {},
   "outputs": [
    {
     "name": "stderr",
     "output_type": "stream",
     "text": [
      "\u001b[1;38;5;39mCOMET INFO:\u001b[0m ---------------------------------------------------------------------------------------\n",
      "\u001b[1;38;5;39mCOMET INFO:\u001b[0m Comet.ml Experiment Summary\n",
      "\u001b[1;38;5;39mCOMET INFO:\u001b[0m ---------------------------------------------------------------------------------------\n",
      "\u001b[1;38;5;39mCOMET INFO:\u001b[0m   Data:\n",
      "\u001b[1;38;5;39mCOMET INFO:\u001b[0m     display_summary_level : 1\n",
      "\u001b[1;38;5;39mCOMET INFO:\u001b[0m     name                  : 3DUnet\n",
      "\u001b[1;38;5;39mCOMET INFO:\u001b[0m     url                   : https://www.comet.com/pavelbartenev/general/20ce06a19c0f426aad66e0074e624f49\n",
      "\u001b[1;38;5;39mCOMET INFO:\u001b[0m   Metrics [count] (min, max):\n",
      "\u001b[1;38;5;39mCOMET INFO:\u001b[0m     avg_train_loss_0 [100]    : (-0.01818833812031635, 0.5595067871171374)\n",
      "\u001b[1;38;5;39mCOMET INFO:\u001b[0m     avg_train_loss_0.01 [100] : (0.09584747168213822, 0.649262762346933)\n",
      "\u001b[1;38;5;39mCOMET INFO:\u001b[0m     avg_train_loss_0.05 [100] : (0.13845337892687598, 0.5395664531131124)\n",
      "\u001b[1;38;5;39mCOMET INFO:\u001b[0m     avg_train_loss_0.1 [100]  : (0.1671458902054055, 0.6388248676477477)\n",
      "\u001b[1;38;5;39mCOMET INFO:\u001b[0m     avg_val_loss_0 [100]      : (0.02561888036628564, 0.5013842781384786)\n",
      "\u001b[1;38;5;39mCOMET INFO:\u001b[0m     avg_val_loss_0.01 [100]   : (0.0706409861644109, 0.5996240774790446)\n",
      "\u001b[1;38;5;39mCOMET INFO:\u001b[0m     avg_val_loss_0.05 [100]   : (0.111833060781161, 0.5100852251052856)\n",
      "\u001b[1;38;5;39mCOMET INFO:\u001b[0m     avg_val_loss_0.1 [100]    : (0.13195447127024332, 0.591636578241984)\n",
      "\u001b[1;38;5;39mCOMET INFO:\u001b[0m     train_loss_0 [4300]       : (-2.1319961547851562, 0.6722059845924377)\n",
      "\u001b[1;38;5;39mCOMET INFO:\u001b[0m     train_loss_0.01 [4300]    : (-0.0922006145119667, 0.7874966263771057)\n",
      "\u001b[1;38;5;39mCOMET INFO:\u001b[0m     train_loss_0.05 [4300]    : (0.09524760395288467, 0.6361492872238159)\n",
      "\u001b[1;38;5;39mCOMET INFO:\u001b[0m     train_loss_0.1 [4300]     : (0.12198002636432648, 0.7147567272186279)\n",
      "\u001b[1;38;5;39mCOMET INFO:\u001b[0m     val_loss_0 [300]          : (0.023469533771276474, 0.5085608959197998)\n",
      "\u001b[1;38;5;39mCOMET INFO:\u001b[0m     val_loss_0.01 [300]       : (0.058633677661418915, 0.6110591292381287)\n",
      "\u001b[1;38;5;39mCOMET INFO:\u001b[0m     val_loss_0.05 [300]       : (0.09239572286605835, 0.5217799544334412)\n",
      "\u001b[1;38;5;39mCOMET INFO:\u001b[0m     val_loss_0.1 [300]        : (0.11671070009469986, 0.6091845035552979)\n",
      "\u001b[1;38;5;39mCOMET INFO:\u001b[0m   Others:\n",
      "\u001b[1;38;5;39mCOMET INFO:\u001b[0m     Name : 3DUnet\n",
      "\u001b[1;38;5;39mCOMET INFO:\u001b[0m   Uploads:\n",
      "\u001b[1;38;5;39mCOMET INFO:\u001b[0m     conda-environment-definition : 1\n",
      "\u001b[1;38;5;39mCOMET INFO:\u001b[0m     conda-info                   : 1\n",
      "\u001b[1;38;5;39mCOMET INFO:\u001b[0m     conda-specification          : 1\n",
      "\u001b[1;38;5;39mCOMET INFO:\u001b[0m     environment details          : 1\n",
      "\u001b[1;38;5;39mCOMET INFO:\u001b[0m     filename                     : 1\n",
      "\u001b[1;38;5;39mCOMET INFO:\u001b[0m     git metadata                 : 1\n",
      "\u001b[1;38;5;39mCOMET INFO:\u001b[0m     git-patch (uncompressed)     : 1 (962.68 KB)\n",
      "\u001b[1;38;5;39mCOMET INFO:\u001b[0m     installed packages           : 1\n",
      "\u001b[1;38;5;39mCOMET INFO:\u001b[0m     notebook                     : 1\n",
      "\u001b[1;38;5;39mCOMET INFO:\u001b[0m     os packages                  : 1\n",
      "\u001b[1;38;5;39mCOMET INFO:\u001b[0m     source_code                  : 1\n",
      "\u001b[1;38;5;39mCOMET INFO:\u001b[0m \n",
      "\u001b[1;38;5;214mCOMET WARNING:\u001b[0m To get all data logged automatically, import comet_ml before the following modules: torch.\n"
     ]
    }
   ],
   "source": [
    "experiment.end()"
   ]
  },
  {
   "cell_type": "markdown",
   "id": "218d97e1-046b-4763-a83e-7710392b3de4",
   "metadata": {},
   "source": [
    "#### 3DUnet with condition"
   ]
  },
  {
   "cell_type": "code",
   "execution_count": 60,
   "id": "17343b81-62f9-4be0-a810-945598a0dc6c",
   "metadata": {},
   "outputs": [
    {
     "data": {
      "image/png": "[encoded data removed]",
      "text/plain": [
       "<Figure size 432x288 with 1 Axes>"
      ]
     },
     "metadata": {
      "needs_background": "light"
     },
     "output_type": "display_data"
    },
    {
     "data": {
      "image/png": "[encoded data removed]",
      "text/plain": [
       "<Figure size 432x288 with 1 Axes>"
      ]
     },
     "metadata": {
      "needs_background": "light"
     },
     "output_type": "display_data"
    }
   ],
   "source": [
    "experiment = Experiment(\"lVHrwe9BODgMYV1xca8QoEYs8\")\n",
    "experiment.set_name(\"3DUnet_cond\")\n",
    "\n",
    "\n",
    "num_epochs = 100\n",
    "weight_decay_grid = [0, 0.01, 0.05, 0.1]\n",
    "\n",
    "for weight_decay in weight_decay_grid:\n",
    "    model = UNet3D(in_channels=2, out_channels=1).to(device)\n",
    "    optimizer = optim.Adam(model.parameters(), lr=1e-4, weight_decay=weight_decay)\n",
    "    train_model(model, criterion, optimizer, num_epochs, weight_decay, cond=True)"
   ]
  },
  {
   "cell_type": "code",
   "execution_count": 61,
   "id": "a4bbcde6-8e35-4bbf-a0ad-217131e74cf5",
   "metadata": {},
   "outputs": [
    {
     "name": "stderr",
     "output_type": "stream",
     "text": [
      "\u001b[1;38;5;39mCOMET INFO:\u001b[0m ---------------------------------------------------------------------------------------\n",
      "\u001b[1;38;5;39mCOMET INFO:\u001b[0m Comet.ml Experiment Summary\n",
      "\u001b[1;38;5;39mCOMET INFO:\u001b[0m ---------------------------------------------------------------------------------------\n",
      "\u001b[1;38;5;39mCOMET INFO:\u001b[0m   Data:\n",
      "\u001b[1;38;5;39mCOMET INFO:\u001b[0m     display_summary_level : 1\n",
      "\u001b[1;38;5;39mCOMET INFO:\u001b[0m     name                  : 3DUnet_cond\n",
      "\u001b[1;38;5;39mCOMET INFO:\u001b[0m     url                   : https://www.comet.com/pavelbartenev/general/422a68e55329423f874e563f9ea4e8d9\n",
      "\u001b[1;38;5;39mCOMET INFO:\u001b[0m   Metrics [count] (min, max):\n",
      "\u001b[1;38;5;39mCOMET INFO:\u001b[0m     avg_train_loss_0.01_cond [100] : (0.03251502896810687, 0.5525188951991326)\n",
      "\u001b[1;38;5;39mCOMET INFO:\u001b[0m     avg_train_loss_0.05_cond [100] : (0.07180866928294648, 0.6345590657966081)\n",
      "\u001b[1;38;5;39mCOMET INFO:\u001b[0m     avg_train_loss_0.1_cond [100]  : (0.11369405426951341, 0.7057426253030467)\n",
      "\u001b[1;38;5;39mCOMET INFO:\u001b[0m     avg_train_loss_0_cond [100]    : (-0.08808803653647733, 0.6152537894803424)\n",
      "\u001b[1;38;5;39mCOMET INFO:\u001b[0m     avg_val_loss_0.01_cond [100]   : (0.03529748817284902, 3.018494447072347)\n",
      "\u001b[1;38;5;39mCOMET INFO:\u001b[0m     avg_val_loss_0.05_cond [100]   : (0.07226608445247014, 1.6797539790471394)\n",
      "\u001b[1;38;5;39mCOMET INFO:\u001b[0m     avg_val_loss_0.1_cond [100]    : (0.10148631284634273, 10.682649930318197)\n",
      "\u001b[1;38;5;39mCOMET INFO:\u001b[0m     avg_val_loss_0_cond [100]      : (0.025921843325098354, 0.6830548048019409)\n",
      "\u001b[1;38;5;39mCOMET INFO:\u001b[0m     train_loss_0.01_cond [4300]    : (-0.9858521223068237, 0.6637795567512512)\n",
      "\u001b[1;38;5;39mCOMET INFO:\u001b[0m     train_loss_0.05_cond [4300]    : (-0.45075321197509766, 0.750562310218811)\n",
      "\u001b[1;38;5;39mCOMET INFO:\u001b[0m     train_loss_0.1_cond [4300]     : (-0.21330669522285461, 0.7947382926940918)\n",
      "\u001b[1;38;5;39mCOMET INFO:\u001b[0m     train_loss_0_cond [4300]       : (-5.205012321472168, 0.7723706960678101)\n",
      "\u001b[1;38;5;39mCOMET INFO:\u001b[0m     val_loss_0.01_cond [300]       : (0.032959457486867905, 3.6468186378479004)\n",
      "\u001b[1;38;5;39mCOMET INFO:\u001b[0m     val_loss_0.05_cond [300]       : (0.06950681656599045, 2.1752099990844727)\n",
      "\u001b[1;38;5;39mCOMET INFO:\u001b[0m     val_loss_0.1_cond [300]        : (0.09506142139434814, 11.833362579345703)\n",
      "\u001b[1;38;5;39mCOMET INFO:\u001b[0m     val_loss_0_cond [300]          : (0.023787712678313255, 0.9203624129295349)\n",
      "\u001b[1;38;5;39mCOMET INFO:\u001b[0m   Others:\n",
      "\u001b[1;38;5;39mCOMET INFO:\u001b[0m     Name : 3DUnet_cond\n",
      "\u001b[1;38;5;39mCOMET INFO:\u001b[0m   Uploads:\n",
      "\u001b[1;38;5;39mCOMET INFO:\u001b[0m     conda-environment-definition : 1\n",
      "\u001b[1;38;5;39mCOMET INFO:\u001b[0m     conda-info                   : 1\n",
      "\u001b[1;38;5;39mCOMET INFO:\u001b[0m     conda-specification          : 1\n",
      "\u001b[1;38;5;39mCOMET INFO:\u001b[0m     environment details          : 1\n",
      "\u001b[1;38;5;39mCOMET INFO:\u001b[0m     filename                     : 1\n",
      "\u001b[1;38;5;39mCOMET INFO:\u001b[0m     git metadata                 : 1\n",
      "\u001b[1;38;5;39mCOMET INFO:\u001b[0m     git-patch (uncompressed)     : 1 (962.68 KB)\n",
      "\u001b[1;38;5;39mCOMET INFO:\u001b[0m     installed packages           : 1\n",
      "\u001b[1;38;5;39mCOMET INFO:\u001b[0m     notebook                     : 1\n",
      "\u001b[1;38;5;39mCOMET INFO:\u001b[0m     os packages                  : 1\n",
      "\u001b[1;38;5;39mCOMET INFO:\u001b[0m     source_code                  : 1\n",
      "\u001b[1;38;5;39mCOMET INFO:\u001b[0m \n",
      "\u001b[1;38;5;214mCOMET WARNING:\u001b[0m To get all data logged automatically, import comet_ml before the following modules: torch.\n",
      "\u001b[1;38;5;39mCOMET INFO:\u001b[0m Please wait for assets to finish uploading (timeout is 10800 seconds)\n",
      "\u001b[1;38;5;39mCOMET INFO:\u001b[0m All assets have been sent, waiting for delivery confirmation\n"
     ]
    }
   ],
   "source": [
    "experiment.end()"
   ]
  },
  {
   "cell_type": "markdown",
   "id": "72e99833-371e-4cb1-aa8f-d70295c31dd3",
   "metadata": {},
   "source": [
    "### Mask generation"
   ]
  },
  {
   "cell_type": "code",
   "execution_count": 136,
   "id": "fde7f475-8391-4b55-a11a-aadf812b1a34",
   "metadata": {},
   "outputs": [
    {
     "name": "stderr",
     "output_type": "stream",
     "text": [
      "100%|██████████| 77/77 [01:13<00:00,  1.04it/s]\n"
     ]
    }
   ],
   "source": [
    "chkpt_path = 'unet3d_0.pth'\n",
    "model = UNet3D(in_channels=1, out_channels=1).to(device)\n",
    "model.load_state_dict(torch.load(chkpt_path))\n",
    "\n",
    "new_mask_volume = []\n",
    "new_masks = []\n",
    "threshold = 0.5\n",
    "\n",
    "for sample in tqdm(healthy_data):\n",
    "    mri = sample['mri']\n",
    "    patch_mask = sample['patch_mask']\n",
    "\n",
    "    patch = mri[patch_mask > 0].reshape(1, 40, 40, 40)\n",
    "    patch = torch.tensor(patch.astype(np.float32))\n",
    "\n",
    "    gen_mask = model(patch.unsqueeze(0).to(device)).cpu().detach().numpy()\n",
    "    gen_mask = (gen_mask > threshold).astype(np.float64)\n",
    "\n",
    "    new_mask = np.zeros_like(mri)\n",
    "    new_mask[patch_mask > 0] = gen_mask.flatten() \n",
    "\n",
    "    new_mask_volume.append(np.sum(new_mask))\n",
    "    new_masks.append(new_mask)\n",
    "\n",
    "    nib_mask = nib.Nifti1Image(new_mask, affine=np.eye(4))\n",
    "    maskname = sample['filename'].split('.')[0] + \"-mask.nii.gz\"\n",
    "    nib.save(nib_mask, f\"/workspace/MRI-inpainting-project/data/healthy_mri_C_00/healthy_masks_t1/3dunet_masks/masks/{maskname}\")"
   ]
  },
  {
   "cell_type": "markdown",
   "id": "e7beba9b-0632-496a-afb4-22952af76ce6",
   "metadata": {},
   "source": [
    "### Model interpretation"
   ]
  },
  {
   "cell_type": "code",
   "execution_count": 52,
   "id": "e6d6ab50-69ca-4c38-b4ec-c45147d728e3",
   "metadata": {},
   "outputs": [],
   "source": [
    "model.eval()\n",
    "\n",
    "sample = val_dataset[0]\n",
    "\n",
    "output = model(sample[0].unsqueeze(0).to(device))"
   ]
  },
  {
   "cell_type": "code",
   "execution_count": null,
   "id": "b0922285-1667-4cd4-8012-a02823097630",
   "metadata": {},
   "outputs": [],
   "source": [
    "!pip install captum"
   ]
  },
  {
   "cell_type": "code",
   "execution_count": 9,
   "id": "ed1b0be5-44dc-4b86-b44e-d988e3f10074",
   "metadata": {},
   "outputs": [],
   "source": [
    "sample = val_dataset[0]\n",
    "input = sample[0].unsqueeze(0).to(device)\n",
    "input.requires_grad = True"
   ]
  },
  {
   "cell_type": "code",
   "execution_count": 17,
   "id": "58561491-5b51-45d6-99ab-3530e145c46a",
   "metadata": {},
   "outputs": [],
   "source": [
    "from captum.attr import IntegratedGradients\n",
    "\n",
    "baseline = torch.zeros_like(input)\n",
    "\n",
    "def forward_func(x):\n",
    "    return model(x).sum().reshape(1, 1)\n",
    "\n",
    "ig = IntegratedGradients(forward_func)\n",
    "\n",
    "attributions, delta = ig.attribute(input, \n",
    "                                   baselines=baseline, \n",
    "                                   target=None,  \n",
    "                                   return_convergence_delta=True,\n",
    "                                   n_steps=50)\n",
    "\n",
    "attributions = attributions.detach().cpu().numpy()[0, 0] "
   ]
  },
  {
   "cell_type": "code",
   "execution_count": 19,
   "id": "4f413e34-789c-4a4d-b455-8da83ecdcca4",
   "metadata": {},
   "outputs": [],
   "source": [
    "attributions_norm = (attributions - attributions.min()) / (attributions.max() - attributions.min())"
   ]
  },
  {
   "cell_type": "code",
   "execution_count": 30,
   "id": "d21a2ed8-a3a4-4b93-89cd-35c6308173a6",
   "metadata": {},
   "outputs": [
    {
     "data": {
      "text/plain": [
       "<matplotlib.image.AxesImage at 0x7f5caee22760>"
      ]
     },
     "execution_count": 30,
     "metadata": {},
     "output_type": "execute_result"
    },
    {
     "data": {
      "image/png": "[encoded data removed]",
      "text/plain": [
       "<Figure size 432x288 with 1 Axes>"
      ]
     },
     "metadata": {
      "needs_background": "light"
     },
     "output_type": "display_data"
    }
   ],
   "source": [
    "plt.imshow(input[0, 0, :, :, 10].detach().cpu().numpy(), cmap='gray')"
   ]
  },
  {
   "cell_type": "code",
   "execution_count": 29,
   "id": "ed86bb65-f2ec-4d4a-99d7-7c73bc03b180",
   "metadata": {},
   "outputs": [
    {
     "data": {
      "text/plain": [
       "<matplotlib.image.AxesImage at 0x7f5caee4c970>"
      ]
     },
     "execution_count": 29,
     "metadata": {},
     "output_type": "execute_result"
    },
    {
     "data": {
      "image/png": "[encoded data removed]",
      "text/plain": [
       "<Figure size 432x288 with 1 Axes>"
      ]
     },
     "metadata": {
      "needs_background": "light"
     },
     "output_type": "display_data"
    }
   ],
   "source": [
    "plt.imshow(sample[1][0, :, :, 10], cmap='gray')"
   ]
  },
  {
   "cell_type": "code",
   "execution_count": 31,
   "id": "6cac168e-f27a-4bd1-b419-e977db4e707a",
   "metadata": {},
   "outputs": [
    {
     "data": {
      "text/plain": [
       "<matplotlib.image.AxesImage at 0x7f5cae9e8c10>"
      ]
     },
     "execution_count": 31,
     "metadata": {},
     "output_type": "execute_result"
    },
    {
     "data": {
      "image/png": "[encoded data removed]",
      "text/plain": [
       "<Figure size 432x288 with 1 Axes>"
      ]
     },
     "metadata": {
      "needs_background": "light"
     },
     "output_type": "display_data"
    }
   ],
   "source": [
    "plt.imshow(attributions_norm[:, :, 10])"
   ]
  }
 ],
 "metadata": {
  "kernelspec": {
   "display_name": "Python 3",
   "language": "python",
   "name": "python3"
  },
  "language_info": {
   "codemirror_mode": {
    "name": "ipython",
    "version": 3
   },
   "file_extension": ".py",
   "mimetype": "text/x-python",
   "name": "python",
   "nbconvert_exporter": "python",
   "pygments_lexer": "ipython3",
   "version": "3.8.12"
  }
 },
 "nbformat": 4,
 "nbformat_minor": 5
}
